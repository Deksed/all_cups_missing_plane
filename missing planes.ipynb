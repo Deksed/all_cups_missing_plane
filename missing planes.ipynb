{
 "cells": [
  {
   "cell_type": "code",
   "execution_count": 1,
   "metadata": {},
   "outputs": [
    {
     "name": "stdout",
     "output_type": "stream",
     "text": [
      "Requirement already satisfied: pandas in /home/vad/anaconda3/envs/tf/lib/python3.9/site-packages (1.3.0)\n",
      "Requirement already satisfied: python-dateutil>=2.7.3 in /home/vad/anaconda3/envs/tf/lib/python3.9/site-packages (from pandas) (2.8.2)\n",
      "Requirement already satisfied: numpy>=1.17.3 in /home/vad/anaconda3/envs/tf/lib/python3.9/site-packages (from pandas) (1.19.5)\n",
      "Requirement already satisfied: pytz>=2017.3 in /home/vad/anaconda3/envs/tf/lib/python3.9/site-packages (from pandas) (2021.1)\n",
      "Requirement already satisfied: six>=1.5 in /home/vad/anaconda3/envs/tf/lib/python3.9/site-packages (from python-dateutil>=2.7.3->pandas) (1.15.0)\n",
      "Requirement already satisfied: numpy in /home/vad/anaconda3/envs/tf/lib/python3.9/site-packages (1.19.5)\n"
     ]
    }
   ],
   "source": [
    "!pip install pandas\n",
    "!pip install numpy"
   ]
  },
  {
   "cell_type": "code",
   "execution_count": 2,
   "metadata": {},
   "outputs": [
    {
     "name": "stdout",
     "output_type": "stream",
     "text": [
      "2.4.1\n"
     ]
    }
   ],
   "source": [
    "import pandas as pd\n",
    "import numpy as np\n",
    "import tensorflow as tf\n",
    "print(tf.__version__)\n",
    "import tensorflow.keras as keras\n",
    "from tensorflow.keras.layers import Input, Dense\n",
    "from tensorflow.keras.utils import plot_model\n",
    "from tensorflow.keras.preprocessing.image import ImageDataGenerator\n",
    "from tensorflow.keras.models import load_model\n",
    "from sklearn.model_selection import train_test_split\n",
    "from sklearn.metrics import plot_roc_curve, auc, roc_curve, roc_auc_score\n",
    "from  matplotlib import pyplot as plt\n",
    "import matplotlib.image as mpimg\n",
    "import random\n",
    "import os"
   ]
  },
  {
   "cell_type": "code",
   "execution_count": 3,
   "metadata": {},
   "outputs": [],
   "source": [
    "# !pip install livelossplot\n",
    "from livelossplot.tf_keras import PlotLossesCallback"
   ]
  },
  {
   "cell_type": "code",
   "execution_count": 4,
   "metadata": {},
   "outputs": [
    {
     "name": "stdout",
     "output_type": "stream",
     "text": [
      "Num GPUs Available:  [PhysicalDevice(name='/physical_device:GPU:0', device_type='GPU')]\n"
     ]
    }
   ],
   "source": [
    "print(\"Num GPUs Available: \", tf.config.list_physical_devices('GPU'))"
   ]
  },
  {
   "cell_type": "code",
   "execution_count": 31,
   "metadata": {},
   "outputs": [],
   "source": [
    "class CustomLearningRateScheduler(keras.callbacks.Callback):\n",
    "    def __init__(self, schedule):\n",
    "        super(CustomLearningRateScheduler, self).__init__()\n",
    "        self.schedule = schedule\n",
    "\n",
    "    def on_epoch_begin(self, epoch, logs=None):\n",
    "        if not hasattr(self.model.optimizer, \"lr\"):\n",
    "            raise ValueError('Optimizer must have a \"lr\" attribute.')\n",
    "        lr = float(tf.keras.backend.get_value(self.model.optimizer.learning_rate))\n",
    "        scheduled_lr = self.schedule(epoch, lr)\n",
    "        tf.keras.backend.set_value(self.model.optimizer.lr, scheduled_lr)\n",
    "        print(\"\\nEpoch %05d: Learning rate is %.12f.\" % (epoch, scheduled_lr))\n",
    "\n",
    "LR_SCHEDULE = [\n",
    "    (5, 0.000001),\n",
    "    (10, 0.0000001),\n",
    "    (15, 0.00000001),\n",
    "    (20, 0.000000001),\n",
    "    (25, 0.0000000001),\n",
    "    (30, 0.00000000001)\n",
    "]\n",
    "\n",
    "\n",
    "def lr_schedule(epoch, lr):\n",
    "    if epoch < LR_SCHEDULE[0][0] or epoch > LR_SCHEDULE[-1][0]:\n",
    "        return lr\n",
    "    for i in range(len(LR_SCHEDULE)):\n",
    "        if epoch == LR_SCHEDULE[i][0]:\n",
    "            return LR_SCHEDULE[i][1]\n",
    "    return lr\n",
    "\n",
    "def lr_schedule_1(epoch, lr):\n",
    "    decay_rate = 0.1\n",
    "    decay_step = 4\n",
    "    if epoch % decay_step == 0 and epoch:\n",
    "        return lr * decay_rate\n",
    "    return lr"
   ]
  },
  {
   "cell_type": "code",
   "execution_count": 6,
   "metadata": {},
   "outputs": [
    {
     "data": {
      "text/plain": [
       "'/home/vad/Projects/all_cups_missing_plane'"
      ]
     },
     "execution_count": 6,
     "metadata": {},
     "output_type": "execute_result"
    }
   ],
   "source": [
    "import os\n",
    "os.getcwd()"
   ]
  },
  {
   "cell_type": "code",
   "execution_count": 7,
   "metadata": {},
   "outputs": [
    {
     "data": {
      "text/html": [
       "<div>\n",
       "<style scoped>\n",
       "    .dataframe tbody tr th:only-of-type {\n",
       "        vertical-align: middle;\n",
       "    }\n",
       "\n",
       "    .dataframe tbody tr th {\n",
       "        vertical-align: top;\n",
       "    }\n",
       "\n",
       "    .dataframe thead th {\n",
       "        text-align: right;\n",
       "    }\n",
       "</style>\n",
       "<table border=\"1\" class=\"dataframe\">\n",
       "  <thead>\n",
       "    <tr style=\"text-align: right;\">\n",
       "      <th></th>\n",
       "      <th>sign</th>\n",
       "      <th>filename</th>\n",
       "    </tr>\n",
       "  </thead>\n",
       "  <tbody>\n",
       "    <tr>\n",
       "      <th>0</th>\n",
       "      <td>0</td>\n",
       "      <td>200d8766-4240-44d1-a2da-65dc4ee7973a</td>\n",
       "    </tr>\n",
       "    <tr>\n",
       "      <th>1</th>\n",
       "      <td>0</td>\n",
       "      <td>87174854-b7b6-4cb2-8183-4ca2bbd26b9d</td>\n",
       "    </tr>\n",
       "    <tr>\n",
       "      <th>2</th>\n",
       "      <td>0</td>\n",
       "      <td>c089638e-b683-436a-a3a3-3e5be972c4f6</td>\n",
       "    </tr>\n",
       "  </tbody>\n",
       "</table>\n",
       "</div>"
      ],
      "text/plain": [
       "  sign                              filename\n",
       "0    0  200d8766-4240-44d1-a2da-65dc4ee7973a\n",
       "1    0  87174854-b7b6-4cb2-8183-4ca2bbd26b9d\n",
       "2    0  c089638e-b683-436a-a3a3-3e5be972c4f6"
      ]
     },
     "execution_count": 7,
     "metadata": {},
     "output_type": "execute_result"
    }
   ],
   "source": [
    "data_train = pd.read_csv(r'/home/vad/Projects/all_cups_missing_plane/data/train.csv', dtype=str)\n",
    "data_test = pd.read_csv(r'/home/vad/Projects/all_cups_missing_plane/data/test.csv', dtype=str)\n",
    "data_train.head(3)"
   ]
  },
  {
   "cell_type": "code",
   "execution_count": 8,
   "metadata": {},
   "outputs": [],
   "source": [
    "def append_png(fn):\n",
    "    return fn+\".png\"\n",
    "data_train[\"png\"]=data_train[\"filename\"].apply(append_png)\n",
    "data_test[\"png\"]=data_test[\"filename\"].apply(append_png)"
   ]
  },
  {
   "cell_type": "code",
   "execution_count": 9,
   "metadata": {},
   "outputs": [],
   "source": [
    "samples = np.random.rand(len(data_train)) < 0.8\n",
    "df_train = data_train[samples]\n",
    "df_test = data_train[~samples]"
   ]
  },
  {
   "cell_type": "code",
   "execution_count": 10,
   "metadata": {},
   "outputs": [],
   "source": [
    "base_dir = r'/home/vad/Projects/all_cups_missing_plane/data'\n",
    "train_dir = r'/home/vad/Projects/all_cups_missing_plane/data/avia-train'\n",
    "test_dir = r'/home/vad/Projects/all_cups_missing_plane/data/avia-test'\n",
    "cpt_path = r'/home/vad/Projects/all_cups_missing_plane/data/models/'"
   ]
  },
  {
   "cell_type": "code",
   "execution_count": 11,
   "metadata": {},
   "outputs": [],
   "source": [
    "BATCH_SIZE = 128\n",
    "IMAGE_SIZE = 20\n",
    "train_gen = ImageDataGenerator(\n",
    "    rotation_range=45,\n",
    "    rescale=1./255, \n",
    "    horizontal_flip=True\n",
    ")\n",
    "test_gen = ImageDataGenerator(rescale = 1./255)"
   ]
  },
  {
   "cell_type": "code",
   "execution_count": 12,
   "metadata": {},
   "outputs": [
    {
     "name": "stdout",
     "output_type": "stream",
     "text": [
      "Found 24765 non-validated image filenames belonging to 2 classes.\n",
      "Found 6315 non-validated image filenames belonging to 2 classes.\n",
      "Found 1000 non-validated image filenames.\n",
      "Found 31080 non-validated image filenames belonging to 2 classes.\n"
     ]
    }
   ],
   "source": [
    "train_data = train_gen.flow_from_dataframe(dataframe=df_train, \n",
    "                                           directory=train_dir, x_col='png', \n",
    "                                           y_col='sign', seed=42, \n",
    "                                           batch_size=BATCH_SIZE,\n",
    "                                           shuffle=False,  \n",
    "                                           class_mode='binary',\n",
    "                                           validate_filenames=False,\n",
    "                                           target_size=(IMAGE_SIZE, IMAGE_SIZE))\n",
    "\n",
    "val_data = train_gen.flow_from_dataframe(dataframe=df_test, \n",
    "                                           directory=train_dir, x_col='png', \n",
    "                                           y_col='sign', \n",
    "                                           batch_size=BATCH_SIZE,\n",
    "                                           shuffle=False,  \n",
    "                                           class_mode='binary',\n",
    "                                           validate_filenames=False,\n",
    "                                           target_size=(IMAGE_SIZE, IMAGE_SIZE))\n",
    "\n",
    "test_data = test_gen.flow_from_dataframe(dataframe=data_test, \n",
    "                                         directory=test_dir, x_col='png', \n",
    "                                         y_col=None,\n",
    "                                         batch_size=BATCH_SIZE, \n",
    "                                         shuffle=False, \n",
    "                                         class_mode=None,\n",
    "                                         validate_filenames=False,\n",
    "                                         target_size=(IMAGE_SIZE, IMAGE_SIZE))\n",
    "\n",
    "full_data = train_gen.flow_from_dataframe(dataframe=data_train, \n",
    "                                           directory=train_dir, x_col='png', \n",
    "                                           y_col='sign', seed=42, \n",
    "                                           batch_size=BATCH_SIZE,\n",
    "                                           shuffle=True,  \n",
    "                                           class_mode='binary',\n",
    "                                           validate_filenames=False,\n",
    "                                           target_size=(IMAGE_SIZE, IMAGE_SIZE))"
   ]
  },
  {
   "cell_type": "code",
   "execution_count": 50,
   "metadata": {},
   "outputs": [],
   "source": [
    "def make_model(dropout=0.0):\n",
    "    model = tf.keras.Sequential()\n",
    "    model.add(tf.keras.layers.Conv2D(filters=32, kernel_size=(3, 3), \n",
    "                                  activation='relu', input_shape=(IMAGE_SIZE, IMAGE_SIZE, 3), padding='same'))\n",
    "    model.add(tf.keras.layers.BatchNormalization())\n",
    "#     model.add(tf.keras.layers.Dropout(dropout))\n",
    "    model.add(tf.keras.layers.Conv2D(filters=32, kernel_size=(3, 3), \n",
    "                                  activation='relu', input_shape=(IMAGE_SIZE, IMAGE_SIZE, 3), padding='same'))\n",
    "    model.add(tf.keras.layers.BatchNormalization())\n",
    "#     model.add(tf.keras.layers.Dropout(dropout))\n",
    "    model.add(tf.keras.layers.Conv2D(filters=32, kernel_size=(3, 3), \n",
    "                                  activation='relu', input_shape=(IMAGE_SIZE, IMAGE_SIZE, 3), padding='same'))\n",
    "    model.add(tf.keras.layers.BatchNormalization())\n",
    "    model.add(tf.keras.layers.Conv2D(filters=32, kernel_size=(3, 3), \n",
    "                                  activation='relu', input_shape=(IMAGE_SIZE, IMAGE_SIZE, 3), padding='same'))\n",
    "    model.add(tf.keras.layers.BatchNormalization())\n",
    "    model.add(tf.keras.layers.Conv2D(filters=32, kernel_size=(3, 3), \n",
    "                                  activation='relu', input_shape=(IMAGE_SIZE, IMAGE_SIZE, 3), padding='same'))\n",
    "    model.add(tf.keras.layers.BatchNormalization())\n",
    "    model.add(tf.keras.layers.Conv2D(filters=32, kernel_size=(3, 3), \n",
    "                                  activation='relu', input_shape=(IMAGE_SIZE, IMAGE_SIZE, 3), padding='same'))\n",
    "    model.add(tf.keras.layers.BatchNormalization())\n",
    "    model.add(tf.keras.layers.Conv2D(filters=32, kernel_size=(3, 3), \n",
    "                                  activation='relu', input_shape=(IMAGE_SIZE, IMAGE_SIZE, 3), padding='same'))\n",
    "    model.add(tf.keras.layers.BatchNormalization())\n",
    "    model.add(tf.keras.layers.Conv2D(filters=32, kernel_size=(3, 3), \n",
    "                                  activation='relu', input_shape=(IMAGE_SIZE, IMAGE_SIZE, 3), padding='same'))\n",
    "    model.add(tf.keras.layers.BatchNormalization())\n",
    "    model.add(tf.keras.layers.Dropout(dropout))\n",
    "    model.add(tf.keras.layers.MaxPooling2D(pool_size=2))\n",
    "\n",
    "    model.add(tf.keras.layers.Conv2D(filters=64, kernel_size=(3, 3), \n",
    "                                  activation='relu', padding='same'))\n",
    "    model.add(tf.keras.layers.BatchNormalization())\n",
    "    model.add(tf.keras.layers.Conv2D(filters=64, kernel_size=(3, 3), \n",
    "                                  activation='relu', padding='same'))\n",
    "    model.add(tf.keras.layers.BatchNormalization())\n",
    "#     model.add(tf.keras.layers.Dropout(dropout))\n",
    "    model.add(tf.keras.layers.Conv2D(filters=64, kernel_size=(3, 3), \n",
    "                                  activation='relu', padding='same'))\n",
    "    model.add(tf.keras.layers.BatchNormalization())\n",
    "#     model.add(tf.keras.layers.Dropout(dropout))\n",
    "    model.add(tf.keras.layers.Conv2D(filters=64, kernel_size=(3, 3), \n",
    "                                  activation='relu', padding='same'))\n",
    "    model.add(tf.keras.layers.BatchNormalization())\n",
    "#     model.add(tf.keras.layers.Dropout(dropout))\n",
    "    model.add(tf.keras.layers.Conv2D(filters=64, kernel_size=(3, 3), \n",
    "                                  activation='relu', padding='same'))\n",
    "    model.add(tf.keras.layers.BatchNormalization())\n",
    "#     model.add(tf.keras.layers.Dropout(dropout))\n",
    "    model.add(tf.keras.layers.Conv2D(filters=64, kernel_size=(3, 3), \n",
    "                                  activation='relu', padding='same'))\n",
    "    model.add(tf.keras.layers.BatchNormalization())\n",
    "    model.add(tf.keras.layers.Conv2D(filters=64, kernel_size=(3, 3), \n",
    "                                  activation='relu', padding='same'))\n",
    "    model.add(tf.keras.layers.BatchNormalization())\n",
    "    model.add(tf.keras.layers.Conv2D(filters=64, kernel_size=(3, 3), \n",
    "                                  activation='relu', padding='same'))\n",
    "    model.add(tf.keras.layers.BatchNormalization())\n",
    "    model.add(tf.keras.layers.Dropout(dropout))\n",
    "    model.add(tf.keras.layers.MaxPooling2D(pool_size=2))\n",
    "    \n",
    "    model.add(tf.keras.layers.Conv2D(filters=128, kernel_size=(3, 3), \n",
    "                                  activation='relu', padding='same'))\n",
    "    model.add(tf.keras.layers.BatchNormalization())\n",
    "#     model.add(tf.keras.layers.Dropout(dropout))\n",
    "    model.add(tf.keras.layers.Conv2D(filters=128, kernel_size=(3, 3), \n",
    "                                  activation='relu', padding='same'))\n",
    "    model.add(tf.keras.layers.BatchNormalization())\n",
    "#     model.add(tf.keras.layers.Dropout(dropout))\n",
    "    model.add(tf.keras.layers.Conv2D(filters=128, kernel_size=(3, 3), \n",
    "                                  activation='relu', padding='same'))\n",
    "    model.add(tf.keras.layers.BatchNormalization())\n",
    "#     model.add(tf.keras.layers.Dropout(dropout))\n",
    "    model.add(tf.keras.layers.Conv2D(filters=128, kernel_size=(3, 3), \n",
    "                                  activation='relu', padding='same'))\n",
    "    model.add(tf.keras.layers.BatchNormalization())\n",
    "    model.add(tf.keras.layers.Conv2D(filters=128, kernel_size=(3, 3), \n",
    "                                  activation='relu', padding='same'))\n",
    "    model.add(tf.keras.layers.BatchNormalization())\n",
    "    model.add(tf.keras.layers.Conv2D(filters=128, kernel_size=(3, 3), \n",
    "                                  activation='relu', padding='same'))\n",
    "    model.add(tf.keras.layers.BatchNormalization())\n",
    "    model.add(tf.keras.layers.Conv2D(filters=128, kernel_size=(3, 3), \n",
    "                                  activation='relu', padding='same'))\n",
    "    model.add(tf.keras.layers.BatchNormalization())\n",
    "    model.add(tf.keras.layers.Conv2D(filters=128, kernel_size=(3, 3), \n",
    "                                  activation='relu', padding='same'))\n",
    "    model.add(tf.keras.layers.BatchNormalization())\n",
    "    model.add(tf.keras.layers.Dropout(dropout))\n",
    "    \n",
    "#     model.add(tf.keras.layers.Conv2D(filters=256, kernel_size=(3, 3), \n",
    "#                                   activation='relu', padding='same'))\n",
    "#     model.add(tf.keras.layers.BatchNormalization())\n",
    "#     model.add(tf.keras.layers.Conv2D(filters=256, kernel_size=(3, 3), \n",
    "#                                   activation='relu', padding='same'))\n",
    "#     model.add(tf.keras.layers.BatchNormalization())\n",
    "    model.add(tf.keras.layers.Conv2D(filters=512, kernel_size=(3, 3), \n",
    "                                  activation='relu', padding='same'))\n",
    "    model.add(tf.keras.layers.BatchNormalization())\n",
    "    model.add(tf.keras.layers.Dropout(dropout))\n",
    "    model.add(tf.keras.layers.Conv2D(filters=512, kernel_size=(3, 3), \n",
    "                                  activation='relu', padding='same'))\n",
    "    model.add(tf.keras.layers.BatchNormalization())\n",
    "    model.add(tf.keras.layers.Dropout(dropout))\n",
    "    \n",
    "    \n",
    "    model.add(tf.keras.layers.Flatten())\n",
    "    model.add(tf.keras.layers.Dense(256))\n",
    "    model.add(tf.keras.layers.BatchNormalization())\n",
    "    model.add(tf.keras.layers.Dropout(dropout))\n",
    "    model.add(tf.keras.layers.Dense(128))\n",
    "    model.add(tf.keras.layers.BatchNormalization())\n",
    "    model.add(tf.keras.layers.Dropout(dropout))\n",
    "    model.add(tf.keras.layers.Dense(64))\n",
    "    model.add(tf.keras.layers.BatchNormalization())\n",
    "    model.add(tf.keras.layers.Dropout(dropout))\n",
    "    model.add(tf.keras.layers.Dense(1, activation='sigmoid'))\n",
    "\n",
    "    model.compile(optimizer=tf.keras.optimizers.Adam(1e-3),\n",
    "                loss=tf.keras.losses.binary_crossentropy,\n",
    "                metrics=[tf.keras.metrics.AUC()])\n",
    "    return model\n",
    "\n",
    "model = make_model(dropout=0.4)"
   ]
  },
  {
   "cell_type": "code",
   "execution_count": 51,
   "metadata": {},
   "outputs": [
    {
     "name": "stdout",
     "output_type": "stream",
     "text": [
      "Model: \"sequential_13\"\n",
      "_________________________________________________________________\n",
      "Layer (type)                 Output Shape              Param #   \n",
      "=================================================================\n",
      "conv2d_286 (Conv2D)          (None, 20, 20, 32)        896       \n",
      "_________________________________________________________________\n",
      "batch_normalization_329 (Bat (None, 20, 20, 32)        128       \n",
      "_________________________________________________________________\n",
      "conv2d_287 (Conv2D)          (None, 20, 20, 32)        9248      \n",
      "_________________________________________________________________\n",
      "batch_normalization_330 (Bat (None, 20, 20, 32)        128       \n",
      "_________________________________________________________________\n",
      "conv2d_288 (Conv2D)          (None, 20, 20, 32)        9248      \n",
      "_________________________________________________________________\n",
      "batch_normalization_331 (Bat (None, 20, 20, 32)        128       \n",
      "_________________________________________________________________\n",
      "conv2d_289 (Conv2D)          (None, 20, 20, 32)        9248      \n",
      "_________________________________________________________________\n",
      "batch_normalization_332 (Bat (None, 20, 20, 32)        128       \n",
      "_________________________________________________________________\n",
      "conv2d_290 (Conv2D)          (None, 20, 20, 32)        9248      \n",
      "_________________________________________________________________\n",
      "batch_normalization_333 (Bat (None, 20, 20, 32)        128       \n",
      "_________________________________________________________________\n",
      "conv2d_291 (Conv2D)          (None, 20, 20, 32)        9248      \n",
      "_________________________________________________________________\n",
      "batch_normalization_334 (Bat (None, 20, 20, 32)        128       \n",
      "_________________________________________________________________\n",
      "conv2d_292 (Conv2D)          (None, 20, 20, 32)        9248      \n",
      "_________________________________________________________________\n",
      "batch_normalization_335 (Bat (None, 20, 20, 32)        128       \n",
      "_________________________________________________________________\n",
      "conv2d_293 (Conv2D)          (None, 20, 20, 32)        9248      \n",
      "_________________________________________________________________\n",
      "batch_normalization_336 (Bat (None, 20, 20, 32)        128       \n",
      "_________________________________________________________________\n",
      "dropout_86 (Dropout)         (None, 20, 20, 32)        0         \n",
      "_________________________________________________________________\n",
      "max_pooling2d_26 (MaxPooling (None, 10, 10, 32)        0         \n",
      "_________________________________________________________________\n",
      "conv2d_294 (Conv2D)          (None, 10, 10, 64)        18496     \n",
      "_________________________________________________________________\n",
      "batch_normalization_337 (Bat (None, 10, 10, 64)        256       \n",
      "_________________________________________________________________\n",
      "conv2d_295 (Conv2D)          (None, 10, 10, 64)        36928     \n",
      "_________________________________________________________________\n",
      "batch_normalization_338 (Bat (None, 10, 10, 64)        256       \n",
      "_________________________________________________________________\n",
      "conv2d_296 (Conv2D)          (None, 10, 10, 64)        36928     \n",
      "_________________________________________________________________\n",
      "batch_normalization_339 (Bat (None, 10, 10, 64)        256       \n",
      "_________________________________________________________________\n",
      "conv2d_297 (Conv2D)          (None, 10, 10, 64)        36928     \n",
      "_________________________________________________________________\n",
      "batch_normalization_340 (Bat (None, 10, 10, 64)        256       \n",
      "_________________________________________________________________\n",
      "conv2d_298 (Conv2D)          (None, 10, 10, 64)        36928     \n",
      "_________________________________________________________________\n",
      "batch_normalization_341 (Bat (None, 10, 10, 64)        256       \n",
      "_________________________________________________________________\n",
      "conv2d_299 (Conv2D)          (None, 10, 10, 64)        36928     \n",
      "_________________________________________________________________\n",
      "batch_normalization_342 (Bat (None, 10, 10, 64)        256       \n",
      "_________________________________________________________________\n",
      "conv2d_300 (Conv2D)          (None, 10, 10, 64)        36928     \n",
      "_________________________________________________________________\n",
      "batch_normalization_343 (Bat (None, 10, 10, 64)        256       \n",
      "_________________________________________________________________\n",
      "conv2d_301 (Conv2D)          (None, 10, 10, 64)        36928     \n",
      "_________________________________________________________________\n",
      "batch_normalization_344 (Bat (None, 10, 10, 64)        256       \n",
      "_________________________________________________________________\n",
      "dropout_87 (Dropout)         (None, 10, 10, 64)        0         \n",
      "_________________________________________________________________\n",
      "max_pooling2d_27 (MaxPooling (None, 5, 5, 64)          0         \n",
      "_________________________________________________________________\n",
      "conv2d_302 (Conv2D)          (None, 5, 5, 128)         73856     \n",
      "_________________________________________________________________\n",
      "batch_normalization_345 (Bat (None, 5, 5, 128)         512       \n",
      "_________________________________________________________________\n",
      "conv2d_303 (Conv2D)          (None, 5, 5, 128)         147584    \n",
      "_________________________________________________________________\n",
      "batch_normalization_346 (Bat (None, 5, 5, 128)         512       \n",
      "_________________________________________________________________\n",
      "conv2d_304 (Conv2D)          (None, 5, 5, 128)         147584    \n",
      "_________________________________________________________________\n",
      "batch_normalization_347 (Bat (None, 5, 5, 128)         512       \n",
      "_________________________________________________________________\n",
      "conv2d_305 (Conv2D)          (None, 5, 5, 128)         147584    \n",
      "_________________________________________________________________\n",
      "batch_normalization_348 (Bat (None, 5, 5, 128)         512       \n",
      "_________________________________________________________________\n",
      "conv2d_306 (Conv2D)          (None, 5, 5, 128)         147584    \n",
      "_________________________________________________________________\n",
      "batch_normalization_349 (Bat (None, 5, 5, 128)         512       \n",
      "_________________________________________________________________\n",
      "conv2d_307 (Conv2D)          (None, 5, 5, 128)         147584    \n",
      "_________________________________________________________________\n",
      "batch_normalization_350 (Bat (None, 5, 5, 128)         512       \n",
      "_________________________________________________________________\n",
      "conv2d_308 (Conv2D)          (None, 5, 5, 128)         147584    \n",
      "_________________________________________________________________\n",
      "batch_normalization_351 (Bat (None, 5, 5, 128)         512       \n",
      "_________________________________________________________________\n",
      "conv2d_309 (Conv2D)          (None, 5, 5, 128)         147584    \n",
      "_________________________________________________________________\n",
      "batch_normalization_352 (Bat (None, 5, 5, 128)         512       \n",
      "_________________________________________________________________\n",
      "dropout_88 (Dropout)         (None, 5, 5, 128)         0         \n",
      "_________________________________________________________________\n",
      "conv2d_310 (Conv2D)          (None, 5, 5, 512)         590336    \n",
      "_________________________________________________________________\n",
      "batch_normalization_353 (Bat (None, 5, 5, 512)         2048      \n",
      "_________________________________________________________________\n",
      "dropout_89 (Dropout)         (None, 5, 5, 512)         0         \n",
      "_________________________________________________________________\n",
      "conv2d_311 (Conv2D)          (None, 5, 5, 512)         2359808   \n",
      "_________________________________________________________________\n",
      "batch_normalization_354 (Bat (None, 5, 5, 512)         2048      \n",
      "_________________________________________________________________\n",
      "dropout_90 (Dropout)         (None, 5, 5, 512)         0         \n",
      "_________________________________________________________________\n",
      "flatten_13 (Flatten)         (None, 12800)             0         \n",
      "_________________________________________________________________\n",
      "dense_56 (Dense)             (None, 256)               3277056   \n",
      "_________________________________________________________________\n",
      "batch_normalization_355 (Bat (None, 256)               1024      \n",
      "_________________________________________________________________\n",
      "dropout_91 (Dropout)         (None, 256)               0         \n",
      "_________________________________________________________________\n",
      "dense_57 (Dense)             (None, 128)               32896     \n",
      "_________________________________________________________________\n",
      "batch_normalization_356 (Bat (None, 128)               512       \n",
      "_________________________________________________________________\n",
      "dropout_92 (Dropout)         (None, 128)               0         \n",
      "_________________________________________________________________\n",
      "dense_58 (Dense)             (None, 64)                8256      \n",
      "_________________________________________________________________\n",
      "batch_normalization_357 (Bat (None, 64)                256       \n",
      "_________________________________________________________________\n",
      "dropout_93 (Dropout)         (None, 64)                0         \n",
      "_________________________________________________________________\n",
      "dense_59 (Dense)             (None, 1)                 65        \n",
      "=================================================================\n",
      "Total params: 7,731,041\n",
      "Trainable params: 7,724,513\n",
      "Non-trainable params: 6,528\n",
      "_________________________________________________________________\n"
     ]
    }
   ],
   "source": [
    "model.summary()"
   ]
  },
  {
   "cell_type": "code",
   "execution_count": null,
   "metadata": {},
   "outputs": [
    {
     "data": {
      "image/png": "[encoded data removed]",
      "text/plain": [
       "<Figure size 864x576 with 2 Axes>"
      ]
     },
     "metadata": {
      "needs_background": "light"
     },
     "output_type": "display_data"
    },
    {
     "name": "stdout",
     "output_type": "stream",
     "text": [
      "auc_13\n",
      "\ttraining         \t (min:    0.854, max:    0.992, cur:    0.992)\n",
      "\tvalidation       \t (min:    0.592, max:    0.990, cur:    0.989)\n",
      "Loss\n",
      "\ttraining         \t (min:    0.099, max:    0.465, cur:    0.100)\n",
      "\tvalidation       \t (min:    0.122, max:    1.051, cur:    0.136)\n",
      "Epoch 8/50\n",
      "\n",
      "Epoch 00007: Learning rate is 0.000100000005.\n",
      "194/194 [==============================] - ETA: 0s - loss: 0.0947 - auc_13: 0.9923"
     ]
    }
   ],
   "source": [
    "checkpoint = tf.keras.callbacks.ModelCheckpoint(cpt_path, monitor='val_loss', verbose=1, save_best_only=True)\n",
    "EPOCHS = 50\n",
    "history = model.fit(\n",
    "    train_data,\n",
    "    validation_data=val_data,\n",
    "    epochs=EPOCHS,\n",
    "    callbacks=[checkpoint, PlotLossesCallback(), CustomLearningRateScheduler(lr_schedule_1)])"
   ]
  },
  {
   "cell_type": "code",
   "execution_count": null,
   "metadata": {},
   "outputs": [],
   "source": [
    "val_data_pred = model.predict(val_data)\n",
    "fpr, tpr, thresholds = roc_curve(df_test['sign'].astype(int), val_data_pred)"
   ]
  },
  {
   "cell_type": "code",
   "execution_count": null,
   "metadata": {},
   "outputs": [],
   "source": [
    "def plot_roc_curve(fpr,tpr): \n",
    "    plt.figure(1)\n",
    "    plt.plot([0, 1], [0, 1], 'k--')\n",
    "    plt.plot(fpr, tpr)\n",
    "    plt.xlabel('False positive rate')\n",
    "    plt.ylabel('True positive rate')\n",
    "    plt.title('ROC curve')\n",
    "    plt.show()\n",
    "    # Zoom in view of the upper left corner.\n",
    "    plt.figure(2)\n",
    "    plt.xlim(0, 0.3)\n",
    "    plt.ylim(0.9, 1)\n",
    "    plt.plot([0, 1], [0, 1], 'k--')\n",
    "    plt.plot(fpr, tpr)\n",
    "    plt.xlabel('False positive rate')\n",
    "    plt.ylabel('True positive rate')\n",
    "    plt.title('ROC curve (zoomed in at top left)')\n",
    "    plt.show()\n",
    "\n",
    "plot_roc_curve(fpr,tpr) "
   ]
  },
  {
   "cell_type": "code",
   "execution_count": null,
   "metadata": {},
   "outputs": [],
   "source": [
    "auc_score=roc_auc_score(df_test['sign'].astype(int), val_data_pred)\n",
    "print(auc_score)\n",
    "print(\"\")"
   ]
  },
  {
   "cell_type": "code",
   "execution_count": null,
   "metadata": {},
   "outputs": [],
   "source": [
    "def submit(data_test, predict, auc=0.9):\n",
    "    test = pd.DataFrame(predict, columns=['Predict'])\n",
    "    result = pd.concat([data_test, test], axis=1)\n",
    "    result['sign']  = result['Predict'].apply(lambda x: 1 if x > auc else 0)\n",
    "    result.drop(['png', 'Predict'], axis=1, inplace=True)\n",
    "    result.to_csv('Subbmision.csv', columns=['sign', 'filename'], index=False)"
   ]
  },
  {
   "cell_type": "code",
   "execution_count": null,
   "metadata": {},
   "outputs": [],
   "source": [
    "def full_model_learn(EPOCHS):\n",
    "    model_full = make_model(dropout=0.4)\n",
    "    model_full.fit(full_data, epochs=EPOCHS, callbacks=[checkpoint, PlotLossesCallback(), CustomLearningRateScheduler(lr_schedule_1)])\n",
    "    predict = model_full.predict(test_data)\n",
    "    return predict, model_best"
   ]
  },
  {
   "cell_type": "code",
   "execution_count": null,
   "metadata": {},
   "outputs": [],
   "source": [
    "full_pred, best_model = full_model_learn(50)"
   ]
  },
  {
   "cell_type": "code",
   "execution_count": null,
   "metadata": {},
   "outputs": [],
   "source": [
    "submit(data_test, model.predict(test_data), auc=0.67)"
   ]
  },
  {
   "cell_type": "code",
   "execution_count": null,
   "metadata": {},
   "outputs": [],
   "source": [
    "testing = model.predict(test_data)\n",
    "testing = pd.DataFrame(testing, columns=['Predict'])"
   ]
  },
  {
   "cell_type": "code",
   "execution_count": null,
   "metadata": {},
   "outputs": [],
   "source": [
    "testing['Predict'].sum()"
   ]
  },
  {
   "cell_type": "code",
   "execution_count": null,
   "metadata": {},
   "outputs": [],
   "source": [
    "for i in np.arange(0, 1, 0.001):\n",
    "    testing['sign' + str(i)]  = testing['Predict'].apply(lambda x: 1 if x > i else 0)\n",
    "    print(i, sum(testing['sign' + str(i)]))"
   ]
  },
  {
   "cell_type": "code",
   "execution_count": null,
   "metadata": {},
   "outputs": [],
   "source": [
    "testing.sum(axis=1)"
   ]
  },
  {
   "cell_type": "code",
   "execution_count": null,
   "metadata": {},
   "outputs": [],
   "source": [
    "testing = model.predict(val_data)"
   ]
  },
  {
   "cell_type": "code",
   "execution_count": null,
   "metadata": {},
   "outputs": [],
   "source": [
    "testing = pd.DataFrame(testing, columns=['Predict'])\n",
    "testing"
   ]
  },
  {
   "cell_type": "code",
   "execution_count": null,
   "metadata": {},
   "outputs": [],
   "source": []
  }
 ],
 "metadata": {
  "kernelspec": {
   "display_name": "tf-gpu",
   "language": "python",
   "name": "tf-gpu"
  },
  "language_info": {
   "codemirror_mode": {
    "name": "ipython",
    "version": 3
   },
   "file_extension": ".py",
   "mimetype": "text/x-python",
   "name": "python",
   "nbconvert_exporter": "python",
   "pygments_lexer": "ipython3",
   "version": "3.9.5"
  }
 },
 "nbformat": 4,
 "nbformat_minor": 5
}
