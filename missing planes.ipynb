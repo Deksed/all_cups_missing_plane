{
 "cells": [
  {
   "cell_type": "code",
   "execution_count": 1,
   "id": "85efbdd6",
   "metadata": {},
   "outputs": [
    {
     "name": "stdout",
     "output_type": "stream",
     "text": [
      "2.5.0\n"
     ]
    }
   ],
   "source": [
    "import pandas as pd\n",
    "import numpy as np\n",
    "import tensorflow as tf\n",
    "print(tf.__version__)\n",
    "import tensorflow.keras as keras\n",
    "from tensorflow.keras.layers import Input, Dense\n",
    "from tensorflow.keras.utils import plot_model\n",
    "from tensorflow.keras.preprocessing.image import ImageDataGenerator\n",
    "from tensorflow.keras.models import load_model\n",
    "from sklearn.model_selection import train_test_split\n",
    "from sklearn.metrics import plot_roc_curve, auc, roc_curve, roc_auc_score\n",
    "from  matplotlib import pyplot as plt\n",
    "import matplotlib.image as mpimg\n",
    "import random\n",
    "import os"
   ]
  },
  {
   "cell_type": "code",
   "execution_count": 2,
   "id": "e3637688",
   "metadata": {},
   "outputs": [],
   "source": [
    "# !pip install livelossplot\n",
    "from livelossplot.tf_keras import PlotLossesCallback"
   ]
  },
  {
   "cell_type": "code",
   "execution_count": 3,
   "id": "c44ea367",
   "metadata": {},
   "outputs": [
    {
     "name": "stdout",
     "output_type": "stream",
     "text": [
      "Num GPUs Available:  []\n"
     ]
    }
   ],
   "source": [
    "print(\"Num GPUs Available: \", tf.config.list_physical_devices('GPU'))"
   ]
  },
  {
   "cell_type": "code",
   "execution_count": 4,
   "id": "5feef32e",
   "metadata": {},
   "outputs": [
    {
     "data": {
      "text/html": [
       "<div>\n",
       "<style scoped>\n",
       "    .dataframe tbody tr th:only-of-type {\n",
       "        vertical-align: middle;\n",
       "    }\n",
       "\n",
       "    .dataframe tbody tr th {\n",
       "        vertical-align: top;\n",
       "    }\n",
       "\n",
       "    .dataframe thead th {\n",
       "        text-align: right;\n",
       "    }\n",
       "</style>\n",
       "<table border=\"1\" class=\"dataframe\">\n",
       "  <thead>\n",
       "    <tr style=\"text-align: right;\">\n",
       "      <th></th>\n",
       "      <th>sign</th>\n",
       "      <th>filename</th>\n",
       "    </tr>\n",
       "  </thead>\n",
       "  <tbody>\n",
       "    <tr>\n",
       "      <th>0</th>\n",
       "      <td>0</td>\n",
       "      <td>200d8766-4240-44d1-a2da-65dc4ee7973a</td>\n",
       "    </tr>\n",
       "    <tr>\n",
       "      <th>1</th>\n",
       "      <td>0</td>\n",
       "      <td>87174854-b7b6-4cb2-8183-4ca2bbd26b9d</td>\n",
       "    </tr>\n",
       "    <tr>\n",
       "      <th>2</th>\n",
       "      <td>0</td>\n",
       "      <td>c089638e-b683-436a-a3a3-3e5be972c4f6</td>\n",
       "    </tr>\n",
       "  </tbody>\n",
       "</table>\n",
       "</div>"
      ],
      "text/plain": [
       "  sign                              filename\n",
       "0    0  200d8766-4240-44d1-a2da-65dc4ee7973a\n",
       "1    0  87174854-b7b6-4cb2-8183-4ca2bbd26b9d\n",
       "2    0  c089638e-b683-436a-a3a3-3e5be972c4f6"
      ]
     },
     "execution_count": 4,
     "metadata": {},
     "output_type": "execute_result"
    }
   ],
   "source": [
    "data_train = pd.read_csv(r'C:\\Users\\user\\Desktop\\all_cups\\missing_planes\\data\\train.csv', dtype=str)\n",
    "data_test = pd.read_csv(r'C:\\Users\\user\\Desktop\\all_cups\\missing_planes\\data\\test.csv', dtype=str)\n",
    "data_train.head(3)"
   ]
  },
  {
   "cell_type": "code",
   "execution_count": 5,
   "id": "3a80c6cc",
   "metadata": {},
   "outputs": [],
   "source": [
    "def append_png(fn):\n",
    "    return fn+\".png\"\n",
    "data_train[\"png\"]=data_train[\"filename\"].apply(append_png)\n",
    "data_test[\"png\"]=data_test[\"filename\"].apply(append_png)"
   ]
  },
  {
   "cell_type": "code",
   "execution_count": 6,
   "id": "2f6b804d",
   "metadata": {},
   "outputs": [],
   "source": [
    "samples = np.random.rand(len(data_train)) < 0.8\n",
    "df_train = data_train[samples]\n",
    "df_test = data_train[~samples]"
   ]
  },
  {
   "cell_type": "code",
   "execution_count": 7,
   "id": "aa804854",
   "metadata": {},
   "outputs": [],
   "source": [
    "base_dir = r'C:\\Users\\user\\Desktop\\all_cups\\missing_planes\\data'\n",
    "train_dir = r'C:\\Users\\user\\Desktop\\all_cups\\missing_planes\\data\\avia-train'\n",
    "test_dir = r'C:\\Users\\user\\Desktop\\all_cups\\missing_planes\\data\\avia-test'\n",
    "cpt_path = r'C:\\Users\\user\\Desktop\\all_cups\\missing_planes\\data\\models'"
   ]
  },
  {
   "cell_type": "code",
   "execution_count": 8,
   "id": "bb32cf37",
   "metadata": {},
   "outputs": [],
   "source": [
    "BATCH_SIZE=128\n",
    "IMAGE_SIZE = 20\n",
    "train_gen = ImageDataGenerator(\n",
    "    rotation_range=45,\n",
    "    rescale=1./255, \n",
    "    horizontal_flip=True\n",
    ")\n",
    "test_gen = ImageDataGenerator(rescale = 1./255)"
   ]
  },
  {
   "cell_type": "code",
   "execution_count": 12,
   "id": "1f9113a6",
   "metadata": {},
   "outputs": [
    {
     "name": "stdout",
     "output_type": "stream",
     "text": [
      "Found 24867 non-validated image filenames belonging to 2 classes.\n",
      "Found 6213 non-validated image filenames belonging to 2 classes.\n",
      "Found 1000 non-validated image filenames.\n",
      "Found 31080 non-validated image filenames belonging to 2 classes.\n"
     ]
    }
   ],
   "source": [
    "train_data = train_gen.flow_from_dataframe(dataframe=df_train, \n",
    "                                           directory=train_dir, x_col='png', \n",
    "                                           y_col='sign', seed=42, \n",
    "                                           batch_size=BATCH_SIZE,\n",
    "                                           shuffle=False,  \n",
    "                                           class_mode='binary',\n",
    "                                           validate_filenames=False,\n",
    "                                           target_size=(IMAGE_SIZE, IMAGE_SIZE))\n",
    "\n",
    "val_data = train_gen.flow_from_dataframe(dataframe=df_test, \n",
    "                                           directory=train_dir, x_col='png', \n",
    "                                           y_col='sign', \n",
    "                                           batch_size=BATCH_SIZE,\n",
    "                                           shuffle=False,  \n",
    "                                           class_mode='binary',\n",
    "                                           validate_filenames=False,\n",
    "                                           target_size=(IMAGE_SIZE, IMAGE_SIZE))\n",
    "\n",
    "test_data = test_gen.flow_from_dataframe(dataframe=data_test, \n",
    "                                         directory=test_dir, x_col='png', \n",
    "                                         y_col=None,\n",
    "                                         batch_size=BATCH_SIZE, \n",
    "                                         shuffle=False, \n",
    "                                         class_mode=None,\n",
    "                                         validate_filenames=False,\n",
    "                                         target_size=(IMAGE_SIZE, IMAGE_SIZE))\n",
    "\n",
    "full_data = train_gen.flow_from_dataframe(dataframe=data_train, \n",
    "                                           directory=train_dir, x_col='png', \n",
    "                                           y_col='sign', seed=42, \n",
    "                                           batch_size=BATCH_SIZE,\n",
    "                                           shuffle=True,  \n",
    "                                           class_mode='binary',\n",
    "                                           validate_filenames=False,\n",
    "                                           target_size=(IMAGE_SIZE, IMAGE_SIZE))"
   ]
  },
  {
   "cell_type": "code",
   "execution_count": 13,
   "id": "e10e163d",
   "metadata": {},
   "outputs": [],
   "source": [
    "def make_model(dropout=0.0):\n",
    "    model = tf.keras.Sequential()\n",
    "    model.add(tf.keras.layers.Conv2D(filters=32, kernel_size=(3, 3), \n",
    "                                  activation='relu', input_shape=(IMAGE_SIZE, IMAGE_SIZE, 3), padding='same'))\n",
    "    model.add(tf.keras.layers.Dropout(dropout))\n",
    "    model.add(tf.keras.layers.MaxPooling2D(pool_size=2))\n",
    "\n",
    "    model.add(tf.keras.layers.Conv2D(filters=64, kernel_size=(3, 3), \n",
    "                                  activation='relu', padding='same'))\n",
    "    model.add(tf.keras.layers.Dropout(dropout))\n",
    "    model.add(tf.keras.layers.Conv2D(filters=64, kernel_size=(3, 3), \n",
    "                                  activation='relu', padding='same'))\n",
    "    model.add(tf.keras.layers.Dropout(dropout))\n",
    "    model.add(tf.keras.layers.MaxPooling2D(pool_size=2))\n",
    "    model.add(tf.keras.layers.Flatten())\n",
    "    model.add(tf.keras.layers.Dense(128))\n",
    "    model.add(tf.keras.layers.Dense(64))\n",
    "    model.add(tf.keras.layers.Dense(1, activation='sigmoid'))\n",
    "\n",
    "    model.compile(optimizer=tf.keras.optimizers.Adam(1e-4),\n",
    "                loss=tf.keras.losses.binary_crossentropy,\n",
    "                metrics=[tf.keras.metrics.AUC()])\n",
    "    return model\n",
    "\n",
    "model = make_model(dropout=0.5)"
   ]
  },
  {
   "cell_type": "code",
   "execution_count": 14,
   "id": "23e696c9",
   "metadata": {},
   "outputs": [
    {
     "name": "stdout",
     "output_type": "stream",
     "text": [
      "Model: \"sequential_1\"\n",
      "_________________________________________________________________\n",
      "Layer (type)                 Output Shape              Param #   \n",
      "=================================================================\n",
      "conv2d_3 (Conv2D)            (None, 20, 20, 32)        896       \n",
      "_________________________________________________________________\n",
      "dropout_3 (Dropout)          (None, 20, 20, 32)        0         \n",
      "_________________________________________________________________\n",
      "max_pooling2d_2 (MaxPooling2 (None, 10, 10, 32)        0         \n",
      "_________________________________________________________________\n",
      "conv2d_4 (Conv2D)            (None, 10, 10, 64)        18496     \n",
      "_________________________________________________________________\n",
      "dropout_4 (Dropout)          (None, 10, 10, 64)        0         \n",
      "_________________________________________________________________\n",
      "conv2d_5 (Conv2D)            (None, 10, 10, 64)        36928     \n",
      "_________________________________________________________________\n",
      "dropout_5 (Dropout)          (None, 10, 10, 64)        0         \n",
      "_________________________________________________________________\n",
      "max_pooling2d_3 (MaxPooling2 (None, 5, 5, 64)          0         \n",
      "_________________________________________________________________\n",
      "flatten_1 (Flatten)          (None, 1600)              0         \n",
      "_________________________________________________________________\n",
      "dense_3 (Dense)              (None, 128)               204928    \n",
      "_________________________________________________________________\n",
      "dense_4 (Dense)              (None, 64)                8256      \n",
      "_________________________________________________________________\n",
      "dense_5 (Dense)              (None, 1)                 65        \n",
      "=================================================================\n",
      "Total params: 269,569\n",
      "Trainable params: 269,569\n",
      "Non-trainable params: 0\n",
      "_________________________________________________________________\n"
     ]
    }
   ],
   "source": [
    "model.summary()"
   ]
  },
  {
   "cell_type": "code",
   "execution_count": 15,
   "id": "513e57ae",
   "metadata": {},
   "outputs": [
    {
     "data": {
      "image/png": "[encoded data removed]",
      "text/plain": [
       "<Figure size 864x576 with 2 Axes>"
      ]
     },
     "metadata": {
      "needs_background": "light"
     },
     "output_type": "display_data"
    },
    {
     "name": "stdout",
     "output_type": "stream",
     "text": [
      "auc_1\n",
      "\ttraining         \t (min:    0.533, max:    0.990, cur:    0.990)\n",
      "\tvalidation       \t (min:    0.763, max:    0.994, cur:    0.993)\n",
      "Loss\n",
      "\ttraining         \t (min:    0.109, max:    0.587, cur:    0.109)\n",
      "\tvalidation       \t (min:    0.161, max:    0.576, cur:    0.164)\n"
     ]
    }
   ],
   "source": [
    "checkpoint = tf.keras.callbacks.ModelCheckpoint(cpt_path, monitor='val_loss', verbose=1, save_best_only=True)\n",
    "\n",
    "EPOCHS = 50\n",
    "history = model.fit(\n",
    "    train_data,\n",
    "    validation_data=val_data,\n",
    "    epochs=EPOCHS,\n",
    "    callbacks=[checkpoint, PlotLossesCallback()])"
   ]
  },
  {
   "cell_type": "code",
   "execution_count": 16,
   "id": "647992f7",
   "metadata": {},
   "outputs": [],
   "source": [
    "val_data_pred = model.predict(val_data)\n",
    "fpr, tpr, thresholds = roc_curve(df_test['sign'].astype(int), val_data_pred)"
   ]
  },
  {
   "cell_type": "code",
   "execution_count": 17,
   "id": "54fb7780",
   "metadata": {},
   "outputs": [
    {
     "data": {
      "image/png": "[encoded data removed]",
      "text/plain": [
       "<Figure size 432x288 with 1 Axes>"
      ]
     },
     "metadata": {
      "needs_background": "light"
     },
     "output_type": "display_data"
    },
    {
     "data": {
      "image/png": "[encoded data removed]",
      "text/plain": [
       "<Figure size 432x288 with 1 Axes>"
      ]
     },
     "metadata": {
      "needs_background": "light"
     },
     "output_type": "display_data"
    }
   ],
   "source": [
    "def plot_roc_curve(fpr,tpr): \n",
    "    plt.figure(1)\n",
    "    plt.plot([0, 1], [0, 1], 'k--')\n",
    "    plt.plot(fpr, tpr)\n",
    "    plt.xlabel('False positive rate')\n",
    "    plt.ylabel('True positive rate')\n",
    "    plt.title('ROC curve')\n",
    "    plt.show()\n",
    "    # Zoom in view of the upper left corner.\n",
    "    plt.figure(2)\n",
    "    plt.xlim(0, 0.3)\n",
    "    plt.ylim(0.9, 1)\n",
    "    plt.plot([0, 1], [0, 1], 'k--')\n",
    "    plt.plot(fpr, tpr)\n",
    "    plt.xlabel('False positive rate')\n",
    "    plt.ylabel('True positive rate')\n",
    "    plt.title('ROC curve (zoomed in at top left)')\n",
    "    plt.show()\n",
    "\n",
    "plot_roc_curve(fpr,tpr) "
   ]
  },
  {
   "cell_type": "code",
   "execution_count": 18,
   "id": "10b4162f",
   "metadata": {},
   "outputs": [
    {
     "data": {
      "text/plain": [
       "0.9931791891688398"
      ]
     },
     "execution_count": 18,
     "metadata": {},
     "output_type": "execute_result"
    }
   ],
   "source": [
    "auc_score=roc_auc_score(df_test['sign'].astype(int), val_data_pred)\n",
    "auc_score"
   ]
  },
  {
   "cell_type": "code",
   "execution_count": 19,
   "id": "e8f46147",
   "metadata": {},
   "outputs": [],
   "source": [
    "def submit(data_test, predict, auc=0.9):\n",
    "    test = pd.DataFrame(predict, columns=['Predict'])\n",
    "    result = pd.concat([data_test, test], axis=1)\n",
    "    result['sign']  = result['Predict'].apply(lambda x: 1 if x > auc else 0)\n",
    "    result.drop(['png', 'Predict'], axis=1, inplace=True)\n",
    "    result.to_csv('Subbmision.csv', columns=['sign', 'filename'], index=False)"
   ]
  },
  {
   "cell_type": "code",
   "execution_count": 20,
   "id": "87df502c",
   "metadata": {},
   "outputs": [],
   "source": [
    "def full_model_learn(EPOCHS):\n",
    "    model.fit(full_data, epochs=EPOCHS, callbacks=[checkpoint, PlotLossesCallback()])\n",
    "    model_best = make_model(dropout=0.5)\n",
    "    model_best.load_weights(cpt_path)\n",
    "    predict = model.predict(test_data)\n",
    "    return predict"
   ]
  },
  {
   "cell_type": "code",
   "execution_count": 22,
   "id": "8f549167",
   "metadata": {},
   "outputs": [
    {
     "data": {
      "image/png": "[encoded data removed]",
      "text/plain": [
       "<Figure size 864x576 with 2 Axes>"
      ]
     },
     "metadata": {
      "needs_background": "light"
     },
     "output_type": "display_data"
    },
    {
     "name": "stdout",
     "output_type": "stream",
     "text": [
      "auc_1\n",
      "\tauc_1            \t (min:    0.990, max:    0.994, cur:    0.994)\n",
      "Loss\n",
      "\tloss             \t (min:    0.082, max:    0.110, cur:    0.082)\n"
     ]
    }
   ],
   "source": [
    "full_pred = full_model_learn(50)"
   ]
  },
  {
   "cell_type": "code",
   "execution_count": null,
   "id": "21e388f4",
   "metadata": {},
   "outputs": [],
   "source": [
    "# model_best = make_model(dropout=0.5)\n",
    "# model_best.load_weights(cpt_path)\n",
    "# full_pred = model.predict(test_data)"
   ]
  },
  {
   "cell_type": "code",
   "execution_count": 28,
   "id": "f472cfe6",
   "metadata": {},
   "outputs": [
    {
     "name": "stdout",
     "output_type": "stream",
     "text": [
      "WARNING:tensorflow:Unresolved object in checkpoint: (root).trainable_variables\n",
      "WARNING:tensorflow:Unresolved object in checkpoint: (root).regularization_losses\n",
      "WARNING:tensorflow:Unresolved object in checkpoint: (root).variables\n",
      "WARNING:tensorflow:Unresolved object in checkpoint: (root).keras_api\n",
      "WARNING:tensorflow:Unresolved object in checkpoint: (root).signatures\n",
      "WARNING:tensorflow:Unresolved object in checkpoint: (root).layer_with_weights-0.trainable_variables\n",
      "WARNING:tensorflow:Unresolved object in checkpoint: (root).layer_with_weights-0.regularization_losses\n",
      "WARNING:tensorflow:Unresolved object in checkpoint: (root).layer_with_weights-0.variables\n",
      "WARNING:tensorflow:Unresolved object in checkpoint: (root).layer_with_weights-0.keras_api\n",
      "WARNING:tensorflow:Unresolved object in checkpoint: (root).layer-1.trainable_variables\n",
      "WARNING:tensorflow:Unresolved object in checkpoint: (root).layer-1.regularization_losses\n",
      "WARNING:tensorflow:Unresolved object in checkpoint: (root).layer-1.variables\n",
      "WARNING:tensorflow:Unresolved object in checkpoint: (root).layer-1.keras_api\n",
      "WARNING:tensorflow:Unresolved object in checkpoint: (root).layer-2.trainable_variables\n",
      "WARNING:tensorflow:Unresolved object in checkpoint: (root).layer-2.regularization_losses\n",
      "WARNING:tensorflow:Unresolved object in checkpoint: (root).layer-2.variables\n",
      "WARNING:tensorflow:Unresolved object in checkpoint: (root).layer-2.keras_api\n",
      "WARNING:tensorflow:Unresolved object in checkpoint: (root).layer_with_weights-1.trainable_variables\n",
      "WARNING:tensorflow:Unresolved object in checkpoint: (root).layer_with_weights-1.regularization_losses\n",
      "WARNING:tensorflow:Unresolved object in checkpoint: (root).layer_with_weights-1.variables\n",
      "WARNING:tensorflow:Unresolved object in checkpoint: (root).layer_with_weights-1.keras_api\n",
      "WARNING:tensorflow:Unresolved object in checkpoint: (root).layer-4.trainable_variables\n",
      "WARNING:tensorflow:Unresolved object in checkpoint: (root).layer-4.regularization_losses\n",
      "WARNING:tensorflow:Unresolved object in checkpoint: (root).layer-4.variables\n",
      "WARNING:tensorflow:Unresolved object in checkpoint: (root).layer-4.keras_api\n",
      "WARNING:tensorflow:Unresolved object in checkpoint: (root).layer_with_weights-2.trainable_variables\n",
      "WARNING:tensorflow:Unresolved object in checkpoint: (root).layer_with_weights-2.regularization_losses\n",
      "WARNING:tensorflow:Unresolved object in checkpoint: (root).layer_with_weights-2.variables\n",
      "WARNING:tensorflow:Unresolved object in checkpoint: (root).layer_with_weights-2.keras_api\n",
      "WARNING:tensorflow:Unresolved object in checkpoint: (root).layer-6.trainable_variables\n",
      "WARNING:tensorflow:Unresolved object in checkpoint: (root).layer-6.regularization_losses\n",
      "WARNING:tensorflow:Unresolved object in checkpoint: (root).layer-6.variables\n",
      "WARNING:tensorflow:Unresolved object in checkpoint: (root).layer-6.keras_api\n",
      "WARNING:tensorflow:Unresolved object in checkpoint: (root).layer-7.trainable_variables\n",
      "WARNING:tensorflow:Unresolved object in checkpoint: (root).layer-7.regularization_losses\n",
      "WARNING:tensorflow:Unresolved object in checkpoint: (root).layer-7.variables\n",
      "WARNING:tensorflow:Unresolved object in checkpoint: (root).layer-7.keras_api\n",
      "WARNING:tensorflow:Unresolved object in checkpoint: (root).layer-8.trainable_variables\n",
      "WARNING:tensorflow:Unresolved object in checkpoint: (root).layer-8.regularization_losses\n",
      "WARNING:tensorflow:Unresolved object in checkpoint: (root).layer-8.variables\n",
      "WARNING:tensorflow:Unresolved object in checkpoint: (root).layer-8.keras_api\n",
      "WARNING:tensorflow:Unresolved object in checkpoint: (root).layer_with_weights-3.trainable_variables\n",
      "WARNING:tensorflow:Unresolved object in checkpoint: (root).layer_with_weights-3.regularization_losses\n",
      "WARNING:tensorflow:Unresolved object in checkpoint: (root).layer_with_weights-3.variables\n",
      "WARNING:tensorflow:Unresolved object in checkpoint: (root).layer_with_weights-3.keras_api\n",
      "WARNING:tensorflow:Unresolved object in checkpoint: (root).layer_with_weights-4.trainable_variables\n",
      "WARNING:tensorflow:Unresolved object in checkpoint: (root).layer_with_weights-4.regularization_losses\n",
      "WARNING:tensorflow:Unresolved object in checkpoint: (root).layer_with_weights-4.variables\n",
      "WARNING:tensorflow:Unresolved object in checkpoint: (root).layer_with_weights-4.keras_api\n",
      "WARNING:tensorflow:Unresolved object in checkpoint: (root).layer_with_weights-5.trainable_variables\n",
      "WARNING:tensorflow:Unresolved object in checkpoint: (root).layer_with_weights-5.regularization_losses\n",
      "WARNING:tensorflow:Unresolved object in checkpoint: (root).layer_with_weights-5.variables\n",
      "WARNING:tensorflow:Unresolved object in checkpoint: (root).layer_with_weights-5.keras_api\n",
      "WARNING:tensorflow:Unresolved object in checkpoint: (root).optimizer.iter\n",
      "WARNING:tensorflow:Unresolved object in checkpoint: (root).optimizer.beta_1\n",
      "WARNING:tensorflow:Unresolved object in checkpoint: (root).optimizer.beta_2\n",
      "WARNING:tensorflow:Unresolved object in checkpoint: (root).optimizer.decay\n",
      "WARNING:tensorflow:Unresolved object in checkpoint: (root).optimizer.learning_rate\n",
      "WARNING:tensorflow:Unresolved object in checkpoint: (root).keras_api.layer_regularization_losses\n",
      "WARNING:tensorflow:Unresolved object in checkpoint: (root).keras_api.metrics\n",
      "WARNING:tensorflow:Unresolved object in checkpoint: (root).keras_api.layer_metrics\n",
      "WARNING:tensorflow:Unresolved object in checkpoint: (root).keras_api.layers\n",
      "WARNING:tensorflow:Unresolved object in checkpoint: (root).keras_api.non_trainable_variables\n",
      "WARNING:tensorflow:Unresolved object in checkpoint: (root).layer_with_weights-0.keras_api.layer_regularization_losses\n",
      "WARNING:tensorflow:Unresolved object in checkpoint: (root).layer_with_weights-0.keras_api.metrics\n",
      "WARNING:tensorflow:Unresolved object in checkpoint: (root).layer_with_weights-0.keras_api.layer_metrics\n",
      "WARNING:tensorflow:Unresolved object in checkpoint: (root).layer_with_weights-0.keras_api.layers\n",
      "WARNING:tensorflow:Unresolved object in checkpoint: (root).layer_with_weights-0.keras_api.non_trainable_variables\n",
      "WARNING:tensorflow:Unresolved object in checkpoint: (root).layer-1.keras_api.layer_regularization_losses\n",
      "WARNING:tensorflow:Unresolved object in checkpoint: (root).layer-1.keras_api.metrics\n",
      "WARNING:tensorflow:Unresolved object in checkpoint: (root).layer-1.keras_api.layer_metrics\n",
      "WARNING:tensorflow:Unresolved object in checkpoint: (root).layer-1.keras_api.layers\n",
      "WARNING:tensorflow:Unresolved object in checkpoint: (root).layer-1.keras_api.non_trainable_variables\n",
      "WARNING:tensorflow:Unresolved object in checkpoint: (root).layer-2.keras_api.layer_regularization_losses\n",
      "WARNING:tensorflow:Unresolved object in checkpoint: (root).layer-2.keras_api.metrics\n",
      "WARNING:tensorflow:Unresolved object in checkpoint: (root).layer-2.keras_api.layer_metrics\n",
      "WARNING:tensorflow:Unresolved object in checkpoint: (root).layer-2.keras_api.layers\n",
      "WARNING:tensorflow:Unresolved object in checkpoint: (root).layer-2.keras_api.non_trainable_variables\n",
      "WARNING:tensorflow:Unresolved object in checkpoint: (root).layer_with_weights-1.keras_api.layer_regularization_losses\n",
      "WARNING:tensorflow:Unresolved object in checkpoint: (root).layer_with_weights-1.keras_api.metrics\n",
      "WARNING:tensorflow:Unresolved object in checkpoint: (root).layer_with_weights-1.keras_api.layer_metrics\n",
      "WARNING:tensorflow:Unresolved object in checkpoint: (root).layer_with_weights-1.keras_api.layers\n",
      "WARNING:tensorflow:Unresolved object in checkpoint: (root).layer_with_weights-1.keras_api.non_trainable_variables\n",
      "WARNING:tensorflow:Unresolved object in checkpoint: (root).layer-4.keras_api.layer_regularization_losses\n",
      "WARNING:tensorflow:Unresolved object in checkpoint: (root).layer-4.keras_api.metrics\n",
      "WARNING:tensorflow:Unresolved object in checkpoint: (root).layer-4.keras_api.layer_metrics\n",
      "WARNING:tensorflow:Unresolved object in checkpoint: (root).layer-4.keras_api.layers\n",
      "WARNING:tensorflow:Unresolved object in checkpoint: (root).layer-4.keras_api.non_trainable_variables\n",
      "WARNING:tensorflow:Unresolved object in checkpoint: (root).layer_with_weights-2.keras_api.layer_regularization_losses\n",
      "WARNING:tensorflow:Unresolved object in checkpoint: (root).layer_with_weights-2.keras_api.metrics\n",
      "WARNING:tensorflow:Unresolved object in checkpoint: (root).layer_with_weights-2.keras_api.layer_metrics\n",
      "WARNING:tensorflow:Unresolved object in checkpoint: (root).layer_with_weights-2.keras_api.layers\n",
      "WARNING:tensorflow:Unresolved object in checkpoint: (root).layer_with_weights-2.keras_api.non_trainable_variables\n",
      "WARNING:tensorflow:Unresolved object in checkpoint: (root).layer-6.keras_api.layer_regularization_losses\n",
      "WARNING:tensorflow:Unresolved object in checkpoint: (root).layer-6.keras_api.metrics\n",
      "WARNING:tensorflow:Unresolved object in checkpoint: (root).layer-6.keras_api.layer_metrics\n",
      "WARNING:tensorflow:Unresolved object in checkpoint: (root).layer-6.keras_api.layers\n",
      "WARNING:tensorflow:Unresolved object in checkpoint: (root).layer-6.keras_api.non_trainable_variables\n",
      "WARNING:tensorflow:Unresolved object in checkpoint: (root).layer-7.keras_api.layer_regularization_losses\n",
      "WARNING:tensorflow:Unresolved object in checkpoint: (root).layer-7.keras_api.metrics\n",
      "WARNING:tensorflow:Unresolved object in checkpoint: (root).layer-7.keras_api.layer_metrics\n",
      "WARNING:tensorflow:Unresolved object in checkpoint: (root).layer-7.keras_api.layers\n",
      "WARNING:tensorflow:Unresolved object in checkpoint: (root).layer-7.keras_api.non_trainable_variables\n",
      "WARNING:tensorflow:Unresolved object in checkpoint: (root).layer-8.keras_api.layer_regularization_losses\n",
      "WARNING:tensorflow:Unresolved object in checkpoint: (root).layer-8.keras_api.metrics\n",
      "WARNING:tensorflow:Unresolved object in checkpoint: (root).layer-8.keras_api.layer_metrics\n",
      "WARNING:tensorflow:Unresolved object in checkpoint: (root).layer-8.keras_api.layers\n",
      "WARNING:tensorflow:Unresolved object in checkpoint: (root).layer-8.keras_api.non_trainable_variables\n",
      "WARNING:tensorflow:Unresolved object in checkpoint: (root).layer_with_weights-3.keras_api.layer_regularization_losses\n",
      "WARNING:tensorflow:Unresolved object in checkpoint: (root).layer_with_weights-3.keras_api.metrics\n",
      "WARNING:tensorflow:Unresolved object in checkpoint: (root).layer_with_weights-3.keras_api.layer_metrics\n",
      "WARNING:tensorflow:Unresolved object in checkpoint: (root).layer_with_weights-3.keras_api.layers\n",
      "WARNING:tensorflow:Unresolved object in checkpoint: (root).layer_with_weights-3.keras_api.non_trainable_variables\n",
      "WARNING:tensorflow:Unresolved object in checkpoint: (root).layer_with_weights-4.keras_api.layer_regularization_losses\n",
      "WARNING:tensorflow:Unresolved object in checkpoint: (root).layer_with_weights-4.keras_api.metrics\n",
      "WARNING:tensorflow:Unresolved object in checkpoint: (root).layer_with_weights-4.keras_api.layer_metrics\n",
      "WARNING:tensorflow:Unresolved object in checkpoint: (root).layer_with_weights-4.keras_api.layers\n",
      "WARNING:tensorflow:Unresolved object in checkpoint: (root).layer_with_weights-4.keras_api.non_trainable_variables\n",
      "WARNING:tensorflow:Unresolved object in checkpoint: (root).layer_with_weights-5.keras_api.layer_regularization_losses\n",
      "WARNING:tensorflow:Unresolved object in checkpoint: (root).layer_with_weights-5.keras_api.metrics\n",
      "WARNING:tensorflow:Unresolved object in checkpoint: (root).layer_with_weights-5.keras_api.layer_metrics\n",
      "WARNING:tensorflow:Unresolved object in checkpoint: (root).layer_with_weights-5.keras_api.layers\n",
      "WARNING:tensorflow:Unresolved object in checkpoint: (root).layer_with_weights-5.keras_api.non_trainable_variables\n",
      "WARNING:tensorflow:Unresolved object in checkpoint: (root).keras_api.metrics.0\n",
      "WARNING:tensorflow:Unresolved object in checkpoint: (root).keras_api.metrics.1\n",
      "WARNING:tensorflow:Unresolved object in checkpoint: (root).keras_api.metrics.0.total\n",
      "WARNING:tensorflow:Unresolved object in checkpoint: (root).keras_api.metrics.0.count\n",
      "WARNING:tensorflow:Unresolved object in checkpoint: (root).keras_api.metrics.0.variables\n",
      "WARNING:tensorflow:Unresolved object in checkpoint: (root).keras_api.metrics.0.keras_api\n",
      "WARNING:tensorflow:Unresolved object in checkpoint: (root).keras_api.metrics.1.true_positives\n",
      "WARNING:tensorflow:Unresolved object in checkpoint: (root).keras_api.metrics.1.true_negatives\n",
      "WARNING:tensorflow:Unresolved object in checkpoint: (root).keras_api.metrics.1.false_positives\n",
      "WARNING:tensorflow:Unresolved object in checkpoint: (root).keras_api.metrics.1.false_negatives\n",
      "WARNING:tensorflow:Unresolved object in checkpoint: (root).keras_api.metrics.1.variables\n",
      "WARNING:tensorflow:Unresolved object in checkpoint: (root).keras_api.metrics.1.keras_api\n",
      "WARNING:tensorflow:A checkpoint was restored (e.g. tf.train.Checkpoint.restore or tf.keras.Model.load_weights) but not all checkpointed values were used. See above for specific issues. Use expect_partial() on the load status object, e.g. tf.train.Checkpoint.restore(...).expect_partial(), to silence these warnings, or use assert_consumed() to make the check explicit. See https://www.tensorflow.org/guide/checkpoint#loading_mechanics for details.\n"
     ]
    }
   ],
   "source": [
    "submit(data_test, full_pred, auc=0.25)"
   ]
  },
  {
   "cell_type": "code",
   "execution_count": 23,
   "id": "165b3823",
   "metadata": {},
   "outputs": [
    {
     "data": {
      "text/html": [
       "<div>\n",
       "<style scoped>\n",
       "    .dataframe tbody tr th:only-of-type {\n",
       "        vertical-align: middle;\n",
       "    }\n",
       "\n",
       "    .dataframe tbody tr th {\n",
       "        vertical-align: top;\n",
       "    }\n",
       "\n",
       "    .dataframe thead th {\n",
       "        text-align: right;\n",
       "    }\n",
       "</style>\n",
       "<table border=\"1\" class=\"dataframe\">\n",
       "  <thead>\n",
       "    <tr style=\"text-align: right;\">\n",
       "      <th></th>\n",
       "      <th>Predict</th>\n",
       "    </tr>\n",
       "  </thead>\n",
       "  <tbody>\n",
       "    <tr>\n",
       "      <th>0</th>\n",
       "      <td>0.030871</td>\n",
       "    </tr>\n",
       "    <tr>\n",
       "      <th>1</th>\n",
       "      <td>0.008766</td>\n",
       "    </tr>\n",
       "    <tr>\n",
       "      <th>2</th>\n",
       "      <td>0.001067</td>\n",
       "    </tr>\n",
       "    <tr>\n",
       "      <th>3</th>\n",
       "      <td>0.936096</td>\n",
       "    </tr>\n",
       "    <tr>\n",
       "      <th>4</th>\n",
       "      <td>0.000627</td>\n",
       "    </tr>\n",
       "  </tbody>\n",
       "</table>\n",
       "</div>"
      ],
      "text/plain": [
       "    Predict\n",
       "0  0.030871\n",
       "1  0.008766\n",
       "2  0.001067\n",
       "3  0.936096\n",
       "4  0.000627"
      ]
     },
     "execution_count": 23,
     "metadata": {},
     "output_type": "execute_result"
    }
   ],
   "source": [
    "test = pd.DataFrame(full_pred, columns=['Predict'])\n",
    "test.head()"
   ]
  },
  {
   "cell_type": "code",
   "execution_count": 24,
   "id": "fb66bc84",
   "metadata": {},
   "outputs": [
    {
     "data": {
      "text/plain": [
       "1575"
      ]
     },
     "execution_count": 24,
     "metadata": {},
     "output_type": "execute_result"
    }
   ],
   "source": [
    "df_test['sign'].astype(int).sum()"
   ]
  },
  {
   "cell_type": "code",
   "execution_count": 25,
   "id": "dccf7dfa",
   "metadata": {},
   "outputs": [
    {
     "name": "stdout",
     "output_type": "stream",
     "text": [
      "Predict 0\n",
      "sign_0.0 1000\n",
      "sign_0.005 456\n",
      "sign_0.01 388\n",
      "sign_0.015 358\n",
      "sign_0.02 332\n",
      "sign_0.025 318\n",
      "sign_0.03 301\n",
      "sign_0.035 292\n",
      "sign_0.04 282\n",
      "sign_0.045 276\n",
      "sign_0.05 274\n",
      "sign_0.055 268\n",
      "sign_0.06 262\n",
      "sign_0.065 258\n",
      "sign_0.07 257\n",
      "sign_0.075 256\n",
      "sign_0.08 254\n",
      "sign_0.085 249\n",
      "sign_0.09 245\n",
      "sign_0.095 242\n",
      "sign_0.1 238\n",
      "sign_0.105 235\n",
      "sign_0.11 231\n",
      "sign_0.115 228\n",
      "sign_0.12 226\n",
      "sign_0.125 225\n",
      "sign_0.13 223\n",
      "sign_0.135 220\n",
      "sign_0.14 219\n",
      "sign_0.145 215\n",
      "sign_0.15 214\n",
      "sign_0.155 213\n",
      "sign_0.16 213\n",
      "sign_0.165 210\n",
      "sign_0.17 210\n",
      "sign_0.17500000000000002 210\n",
      "sign_0.18 206\n",
      "sign_0.185 206\n",
      "sign_0.19 206\n",
      "sign_0.195 205\n",
      "sign_0.2 205\n",
      "sign_0.20500000000000002 203\n",
      "sign_0.21 203\n",
      "sign_0.215 201\n",
      "sign_0.22 201\n",
      "sign_0.225 196\n",
      "sign_0.23 196\n",
      "sign_0.23500000000000001 194\n",
      "sign_0.24 193\n",
      "sign_0.245 192\n",
      "sign_0.25 190\n",
      "sign_0.255 189\n",
      "sign_0.26 189\n",
      "sign_0.265 188\n",
      "sign_0.27 187\n",
      "sign_0.275 186\n",
      "sign_0.28 185\n",
      "sign_0.28500000000000003 185\n",
      "sign_0.29 185\n",
      "sign_0.295 184\n",
      "sign_0.3 183\n",
      "sign_0.305 183\n",
      "sign_0.31 183\n",
      "sign_0.315 183\n",
      "sign_0.32 182\n",
      "sign_0.325 180\n",
      "sign_0.33 180\n",
      "sign_0.335 179\n",
      "sign_0.34 178\n",
      "sign_0.34500000000000003 177\n",
      "sign_0.35000000000000003 176\n",
      "sign_0.355 176\n",
      "sign_0.36 175\n",
      "sign_0.365 174\n",
      "sign_0.37 172\n",
      "sign_0.375 172\n",
      "sign_0.38 170\n",
      "sign_0.385 170\n",
      "sign_0.39 170\n",
      "sign_0.395 169\n",
      "sign_0.4 169\n",
      "sign_0.405 169\n",
      "sign_0.41000000000000003 167\n",
      "sign_0.41500000000000004 165\n",
      "sign_0.42 164\n",
      "sign_0.425 164\n",
      "sign_0.43 161\n",
      "sign_0.435 161\n",
      "sign_0.44 161\n",
      "sign_0.445 161\n",
      "sign_0.45 160\n",
      "sign_0.455 160\n",
      "sign_0.46 160\n",
      "sign_0.465 160\n",
      "sign_0.47000000000000003 159\n",
      "sign_0.47500000000000003 159\n",
      "sign_0.48 159\n",
      "sign_0.485 158\n",
      "sign_0.49 157\n",
      "sign_0.495 155\n",
      "sign_0.5 153\n",
      "sign_0.505 153\n",
      "sign_0.51 152\n",
      "sign_0.515 152\n",
      "sign_0.52 152\n",
      "sign_0.525 152\n",
      "sign_0.53 152\n",
      "sign_0.535 152\n",
      "sign_0.54 152\n",
      "sign_0.545 151\n",
      "sign_0.55 151\n",
      "sign_0.555 151\n",
      "sign_0.56 151\n",
      "sign_0.5650000000000001 150\n",
      "sign_0.5700000000000001 148\n",
      "sign_0.5750000000000001 146\n",
      "sign_0.58 146\n",
      "sign_0.585 145\n",
      "sign_0.59 145\n",
      "sign_0.595 144\n",
      "sign_0.6 144\n",
      "sign_0.605 143\n",
      "sign_0.61 141\n",
      "sign_0.615 139\n",
      "sign_0.62 138\n",
      "sign_0.625 136\n",
      "sign_0.63 135\n",
      "sign_0.635 132\n",
      "sign_0.64 130\n",
      "sign_0.645 128\n",
      "sign_0.65 128\n",
      "sign_0.655 125\n",
      "sign_0.66 123\n",
      "sign_0.665 122\n",
      "sign_0.67 121\n",
      "sign_0.675 117\n",
      "sign_0.68 116\n",
      "sign_0.685 115\n",
      "sign_0.6900000000000001 114\n",
      "sign_0.6950000000000001 114\n",
      "sign_0.7000000000000001 114\n",
      "sign_0.705 114\n",
      "sign_0.71 111\n",
      "sign_0.715 107\n",
      "sign_0.72 104\n",
      "sign_0.725 103\n",
      "sign_0.73 102\n",
      "sign_0.735 100\n",
      "sign_0.74 99\n",
      "sign_0.745 98\n",
      "sign_0.75 98\n",
      "sign_0.755 98\n",
      "sign_0.76 98\n",
      "sign_0.765 98\n",
      "sign_0.77 96\n",
      "sign_0.775 95\n",
      "sign_0.78 91\n",
      "sign_0.785 91\n",
      "sign_0.79 90\n",
      "sign_0.795 88\n",
      "sign_0.8 87\n",
      "sign_0.805 84\n",
      "sign_0.81 83\n",
      "sign_0.8150000000000001 83\n",
      "sign_0.8200000000000001 82\n",
      "sign_0.8250000000000001 82\n",
      "sign_0.8300000000000001 81\n",
      "sign_0.835 80\n",
      "sign_0.84 79\n",
      "sign_0.845 75\n",
      "sign_0.85 74\n",
      "sign_0.855 73\n",
      "sign_0.86 72\n",
      "sign_0.865 72\n",
      "sign_0.87 70\n",
      "sign_0.875 69\n",
      "sign_0.88 65\n",
      "sign_0.885 63\n",
      "sign_0.89 60\n",
      "sign_0.895 58\n",
      "sign_0.9 56\n",
      "sign_0.905 52\n",
      "sign_0.91 49\n",
      "sign_0.915 47\n",
      "sign_0.92 47\n",
      "sign_0.925 41\n",
      "sign_0.93 35\n",
      "sign_0.935 34\n",
      "sign_0.9400000000000001 27\n",
      "sign_0.9450000000000001 26\n",
      "sign_0.9500000000000001 25\n",
      "sign_0.9550000000000001 23\n",
      "sign_0.96 20\n",
      "sign_0.965 16\n",
      "sign_0.97 13\n",
      "sign_0.975 10\n",
      "sign_0.98 9\n",
      "sign_0.985 7\n",
      "sign_0.99 5\n",
      "sign_0.995 3\n"
     ]
    }
   ],
   "source": [
    "for i in np.arange(0, 1, 0.005):\n",
    "    test['sign' + '_' + str(i)]  = test['Predict'].apply(lambda x: 1 if x > i else 0)\n",
    "test.head()\n",
    "for col in test.columns:\n",
    "    print(col, test[col].astype(int).sum())"
   ]
  },
  {
   "cell_type": "code",
   "execution_count": 27,
   "id": "705bfe4e",
   "metadata": {},
   "outputs": [
    {
     "ename": "KeyError",
     "evalue": "'sign'",
     "output_type": "error",
     "traceback": [
      "\u001b[1;31m---------------------------------------------------------------------------\u001b[0m",
      "\u001b[1;31mKeyError\u001b[0m                                  Traceback (most recent call last)",
      "\u001b[1;32mC:\\ProgramData\\Anaconda3\\lib\\site-packages\\pandas\\core\\indexes\\base.py\u001b[0m in \u001b[0;36mget_loc\u001b[1;34m(self, key, method, tolerance)\u001b[0m\n\u001b[0;32m   3079\u001b[0m             \u001b[1;32mtry\u001b[0m\u001b[1;33m:\u001b[0m\u001b[1;33m\u001b[0m\u001b[1;33m\u001b[0m\u001b[0m\n\u001b[1;32m-> 3080\u001b[1;33m                 \u001b[1;32mreturn\u001b[0m \u001b[0mself\u001b[0m\u001b[1;33m.\u001b[0m\u001b[0m_engine\u001b[0m\u001b[1;33m.\u001b[0m\u001b[0mget_loc\u001b[0m\u001b[1;33m(\u001b[0m\u001b[0mcasted_key\u001b[0m\u001b[1;33m)\u001b[0m\u001b[1;33m\u001b[0m\u001b[1;33m\u001b[0m\u001b[0m\n\u001b[0m\u001b[0;32m   3081\u001b[0m             \u001b[1;32mexcept\u001b[0m \u001b[0mKeyError\u001b[0m \u001b[1;32mas\u001b[0m \u001b[0merr\u001b[0m\u001b[1;33m:\u001b[0m\u001b[1;33m\u001b[0m\u001b[1;33m\u001b[0m\u001b[0m\n",
      "\u001b[1;32mpandas\\_libs\\index.pyx\u001b[0m in \u001b[0;36mpandas._libs.index.IndexEngine.get_loc\u001b[1;34m()\u001b[0m\n",
      "\u001b[1;32mpandas\\_libs\\index.pyx\u001b[0m in \u001b[0;36mpandas._libs.index.IndexEngine.get_loc\u001b[1;34m()\u001b[0m\n",
      "\u001b[1;32mpandas\\_libs\\hashtable_class_helper.pxi\u001b[0m in \u001b[0;36mpandas._libs.hashtable.PyObjectHashTable.get_item\u001b[1;34m()\u001b[0m\n",
      "\u001b[1;32mpandas\\_libs\\hashtable_class_helper.pxi\u001b[0m in \u001b[0;36mpandas._libs.hashtable.PyObjectHashTable.get_item\u001b[1;34m()\u001b[0m\n",
      "\u001b[1;31mKeyError\u001b[0m: 'sign'",
      "\nThe above exception was the direct cause of the following exception:\n",
      "\u001b[1;31mKeyError\u001b[0m                                  Traceback (most recent call last)",
      "\u001b[1;32m<ipython-input-27-d090c7740db5>\u001b[0m in \u001b[0;36m<module>\u001b[1;34m\u001b[0m\n\u001b[1;32m----> 1\u001b[1;33m \u001b[0mdata_test\u001b[0m\u001b[1;33m[\u001b[0m\u001b[1;34m'sign'\u001b[0m\u001b[1;33m]\u001b[0m\u001b[1;33m\u001b[0m\u001b[1;33m\u001b[0m\u001b[0m\n\u001b[0m",
      "\u001b[1;32mC:\\ProgramData\\Anaconda3\\lib\\site-packages\\pandas\\core\\frame.py\u001b[0m in \u001b[0;36m__getitem__\u001b[1;34m(self, key)\u001b[0m\n\u001b[0;32m   3022\u001b[0m             \u001b[1;32mif\u001b[0m \u001b[0mself\u001b[0m\u001b[1;33m.\u001b[0m\u001b[0mcolumns\u001b[0m\u001b[1;33m.\u001b[0m\u001b[0mnlevels\u001b[0m \u001b[1;33m>\u001b[0m \u001b[1;36m1\u001b[0m\u001b[1;33m:\u001b[0m\u001b[1;33m\u001b[0m\u001b[1;33m\u001b[0m\u001b[0m\n\u001b[0;32m   3023\u001b[0m                 \u001b[1;32mreturn\u001b[0m \u001b[0mself\u001b[0m\u001b[1;33m.\u001b[0m\u001b[0m_getitem_multilevel\u001b[0m\u001b[1;33m(\u001b[0m\u001b[0mkey\u001b[0m\u001b[1;33m)\u001b[0m\u001b[1;33m\u001b[0m\u001b[1;33m\u001b[0m\u001b[0m\n\u001b[1;32m-> 3024\u001b[1;33m             \u001b[0mindexer\u001b[0m \u001b[1;33m=\u001b[0m \u001b[0mself\u001b[0m\u001b[1;33m.\u001b[0m\u001b[0mcolumns\u001b[0m\u001b[1;33m.\u001b[0m\u001b[0mget_loc\u001b[0m\u001b[1;33m(\u001b[0m\u001b[0mkey\u001b[0m\u001b[1;33m)\u001b[0m\u001b[1;33m\u001b[0m\u001b[1;33m\u001b[0m\u001b[0m\n\u001b[0m\u001b[0;32m   3025\u001b[0m             \u001b[1;32mif\u001b[0m \u001b[0mis_integer\u001b[0m\u001b[1;33m(\u001b[0m\u001b[0mindexer\u001b[0m\u001b[1;33m)\u001b[0m\u001b[1;33m:\u001b[0m\u001b[1;33m\u001b[0m\u001b[1;33m\u001b[0m\u001b[0m\n\u001b[0;32m   3026\u001b[0m                 \u001b[0mindexer\u001b[0m \u001b[1;33m=\u001b[0m \u001b[1;33m[\u001b[0m\u001b[0mindexer\u001b[0m\u001b[1;33m]\u001b[0m\u001b[1;33m\u001b[0m\u001b[1;33m\u001b[0m\u001b[0m\n",
      "\u001b[1;32mC:\\ProgramData\\Anaconda3\\lib\\site-packages\\pandas\\core\\indexes\\base.py\u001b[0m in \u001b[0;36mget_loc\u001b[1;34m(self, key, method, tolerance)\u001b[0m\n\u001b[0;32m   3080\u001b[0m                 \u001b[1;32mreturn\u001b[0m \u001b[0mself\u001b[0m\u001b[1;33m.\u001b[0m\u001b[0m_engine\u001b[0m\u001b[1;33m.\u001b[0m\u001b[0mget_loc\u001b[0m\u001b[1;33m(\u001b[0m\u001b[0mcasted_key\u001b[0m\u001b[1;33m)\u001b[0m\u001b[1;33m\u001b[0m\u001b[1;33m\u001b[0m\u001b[0m\n\u001b[0;32m   3081\u001b[0m             \u001b[1;32mexcept\u001b[0m \u001b[0mKeyError\u001b[0m \u001b[1;32mas\u001b[0m \u001b[0merr\u001b[0m\u001b[1;33m:\u001b[0m\u001b[1;33m\u001b[0m\u001b[1;33m\u001b[0m\u001b[0m\n\u001b[1;32m-> 3082\u001b[1;33m                 \u001b[1;32mraise\u001b[0m \u001b[0mKeyError\u001b[0m\u001b[1;33m(\u001b[0m\u001b[0mkey\u001b[0m\u001b[1;33m)\u001b[0m \u001b[1;32mfrom\u001b[0m \u001b[0merr\u001b[0m\u001b[1;33m\u001b[0m\u001b[1;33m\u001b[0m\u001b[0m\n\u001b[0m\u001b[0;32m   3083\u001b[0m \u001b[1;33m\u001b[0m\u001b[0m\n\u001b[0;32m   3084\u001b[0m         \u001b[1;32mif\u001b[0m \u001b[0mtolerance\u001b[0m \u001b[1;32mis\u001b[0m \u001b[1;32mnot\u001b[0m \u001b[1;32mNone\u001b[0m\u001b[1;33m:\u001b[0m\u001b[1;33m\u001b[0m\u001b[1;33m\u001b[0m\u001b[0m\n",
      "\u001b[1;31mKeyError\u001b[0m: 'sign'"
     ]
    }
   ],
   "source": [
    "data_test['sign']"
   ]
  },
  {
   "cell_type": "code",
   "execution_count": null,
   "id": "4461c8d5",
   "metadata": {},
   "outputs": [],
   "source": []
  }
 ],
 "metadata": {
  "kernelspec": {
   "display_name": "Python 3",
   "language": "python",
   "name": "python3"
  },
  "language_info": {
   "codemirror_mode": {
    "name": "ipython",
    "version": 3
   },
   "file_extension": ".py",
   "mimetype": "text/x-python",
   "name": "python",
   "nbconvert_exporter": "python",
   "pygments_lexer": "ipython3",
   "version": "3.8.8"
  }
 },
 "nbformat": 4,
 "nbformat_minor": 5
}
