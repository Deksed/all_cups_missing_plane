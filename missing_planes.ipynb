{
  "nbformat": 4,
  "nbformat_minor": 0,
  "metadata": {
    "colab": {
      "name": "missing planes.ipynb",
      "provenance": [],
      "collapsed_sections": [],
      "authorship_tag": "ABX9TyNrjAU1Of88CBr3W90YlwYJ",
      "include_colab_link": true
    },
    "kernelspec": {
      "name": "python3",
      "display_name": "Python 3"
    },
    "language_info": {
      "name": "python"
    }
  },
  "cells": [
    {
      "cell_type": "markdown",
      "metadata": {
        "id": "view-in-github",
        "colab_type": "text"
      },
      "source": [
        "<a href=\"https://colab.research.google.com/github/Deksed/all_cups_missing_plane/blob/main/missing_planes.ipynb\" target=\"_parent\"><img src=\"https://colab.research.google.com/assets/colab-badge.svg\" alt=\"Open In Colab\"/></a>"
      ]
    },
    {
      "cell_type": "code",
      "metadata": {
        "colab": {
          "base_uri": "https://localhost:8080/"
        },
        "id": "xttmVPMPFe4n",
        "outputId": "1590e175-c6ee-4024-d658-8749c839ff49"
      },
      "source": [
        "import pandas as pd\n",
        "import numpy as np\n",
        "import tensorflow as tf\n",
        "print(tf.__version__)\n",
        "import tensorflow.keras as keras\n",
        "from tensorflow.keras.layers import Input, Dense\n",
        "from tensorflow.keras.utils import plot_model\n",
        "from tensorflow.keras.preprocessing.image import ImageDataGenerator\n",
        "from tensorflow.keras.models import load_model\n",
        "from sklearn.model_selection import train_test_split\n",
        "from sklearn.metrics import plot_roc_curve, auc, roc_curve, roc_auc_score\n",
        "from google.colab import drive\n",
        "from  matplotlib import pyplot as plt\n",
        "import matplotlib.image as mpimg\n",
        "import random\n",
        "import os\n",
        "%matplotlib inline"
      ],
      "execution_count": null,
      "outputs": [
        {
          "output_type": "stream",
          "text": [
            "2.5.0\n"
          ],
          "name": "stdout"
        }
      ]
    },
    {
      "cell_type": "code",
      "metadata": {
        "colab": {
          "base_uri": "https://localhost:8080/"
        },
        "id": "pL161Mt7_hZp",
        "outputId": "91584b9c-1a3e-49ef-c46e-a95eea908ffe"
      },
      "source": [
        "!pip install livelossplot\n",
        "from livelossplot.tf_keras import PlotLossesCallback"
      ],
      "execution_count": null,
      "outputs": [
        {
          "output_type": "stream",
          "text": [
            "Requirement already satisfied: livelossplot in /usr/local/lib/python3.7/dist-packages (0.5.4)\n",
            "Requirement already satisfied: ipython in /usr/local/lib/python3.7/dist-packages (from livelossplot) (5.5.0)\n",
            "Requirement already satisfied: bokeh in /usr/local/lib/python3.7/dist-packages (from livelossplot) (2.3.2)\n",
            "Requirement already satisfied: matplotlib in /usr/local/lib/python3.7/dist-packages (from livelossplot) (3.2.2)\n",
            "Requirement already satisfied: pygments in /usr/local/lib/python3.7/dist-packages (from ipython->livelossplot) (2.6.1)\n",
            "Requirement already satisfied: pexpect; sys_platform != \"win32\" in /usr/local/lib/python3.7/dist-packages (from ipython->livelossplot) (4.8.0)\n",
            "Requirement already satisfied: simplegeneric>0.8 in /usr/local/lib/python3.7/dist-packages (from ipython->livelossplot) (0.8.1)\n",
            "Requirement already satisfied: decorator in /usr/local/lib/python3.7/dist-packages (from ipython->livelossplot) (4.4.2)\n",
            "Requirement already satisfied: prompt-toolkit<2.0.0,>=1.0.4 in /usr/local/lib/python3.7/dist-packages (from ipython->livelossplot) (1.0.18)\n",
            "Requirement already satisfied: traitlets>=4.2 in /usr/local/lib/python3.7/dist-packages (from ipython->livelossplot) (5.0.5)\n",
            "Requirement already satisfied: pickleshare in /usr/local/lib/python3.7/dist-packages (from ipython->livelossplot) (0.7.5)\n",
            "Requirement already satisfied: setuptools>=18.5 in /usr/local/lib/python3.7/dist-packages (from ipython->livelossplot) (57.0.0)\n",
            "Requirement already satisfied: tornado>=5.1 in /usr/local/lib/python3.7/dist-packages (from bokeh->livelossplot) (5.1.1)\n",
            "Requirement already satisfied: numpy>=1.11.3 in /usr/local/lib/python3.7/dist-packages (from bokeh->livelossplot) (1.19.5)\n",
            "Requirement already satisfied: typing-extensions>=3.7.4 in /usr/local/lib/python3.7/dist-packages (from bokeh->livelossplot) (3.7.4.3)\n",
            "Requirement already satisfied: PyYAML>=3.10 in /usr/local/lib/python3.7/dist-packages (from bokeh->livelossplot) (3.13)\n",
            "Requirement already satisfied: packaging>=16.8 in /usr/local/lib/python3.7/dist-packages (from bokeh->livelossplot) (20.9)\n",
            "Requirement already satisfied: pillow>=7.1.0 in /usr/local/lib/python3.7/dist-packages (from bokeh->livelossplot) (7.1.2)\n",
            "Requirement already satisfied: Jinja2>=2.9 in /usr/local/lib/python3.7/dist-packages (from bokeh->livelossplot) (2.11.3)\n",
            "Requirement already satisfied: python-dateutil>=2.1 in /usr/local/lib/python3.7/dist-packages (from bokeh->livelossplot) (2.8.1)\n",
            "Requirement already satisfied: pyparsing!=2.0.4,!=2.1.2,!=2.1.6,>=2.0.1 in /usr/local/lib/python3.7/dist-packages (from matplotlib->livelossplot) (2.4.7)\n",
            "Requirement already satisfied: kiwisolver>=1.0.1 in /usr/local/lib/python3.7/dist-packages (from matplotlib->livelossplot) (1.3.1)\n",
            "Requirement already satisfied: cycler>=0.10 in /usr/local/lib/python3.7/dist-packages (from matplotlib->livelossplot) (0.10.0)\n",
            "Requirement already satisfied: ptyprocess>=0.5 in /usr/local/lib/python3.7/dist-packages (from pexpect; sys_platform != \"win32\"->ipython->livelossplot) (0.7.0)\n",
            "Requirement already satisfied: six>=1.9.0 in /usr/local/lib/python3.7/dist-packages (from prompt-toolkit<2.0.0,>=1.0.4->ipython->livelossplot) (1.15.0)\n",
            "Requirement already satisfied: wcwidth in /usr/local/lib/python3.7/dist-packages (from prompt-toolkit<2.0.0,>=1.0.4->ipython->livelossplot) (0.2.5)\n",
            "Requirement already satisfied: ipython-genutils in /usr/local/lib/python3.7/dist-packages (from traitlets>=4.2->ipython->livelossplot) (0.2.0)\n",
            "Requirement already satisfied: MarkupSafe>=0.23 in /usr/local/lib/python3.7/dist-packages (from Jinja2>=2.9->bokeh->livelossplot) (2.0.1)\n"
          ],
          "name": "stdout"
        }
      ]
    },
    {
      "cell_type": "code",
      "metadata": {
        "id": "3qZkJxPSLJnT"
      },
      "source": [
        "class MissingPlanesCallback(keras.callbacks.Callback):\n",
        "  pass"
      ],
      "execution_count": null,
      "outputs": []
    },
    {
      "cell_type": "code",
      "metadata": {
        "colab": {
          "base_uri": "https://localhost:8080/"
        },
        "id": "zcSQcvcxFnTw",
        "outputId": "5d733362-0e28-46f7-f2bc-2a5acb34571e"
      },
      "source": [
        "drive.mount('/content/drive/')"
      ],
      "execution_count": null,
      "outputs": [
        {
          "output_type": "stream",
          "text": [
            "Drive already mounted at /content/drive/; to attempt to forcibly remount, call drive.mount(\"/content/drive/\", force_remount=True).\n"
          ],
          "name": "stdout"
        }
      ]
    },
    {
      "cell_type": "code",
      "metadata": {
        "colab": {
          "base_uri": "https://localhost:8080/",
          "height": 142
        },
        "id": "ZtsKF1aUFnYp",
        "outputId": "159fc4b0-6a9b-4e79-84ef-86fa164c6bf3"
      },
      "source": [
        "data_train = pd.read_csv('/content/drive/MyDrive/all_cups/missing_planes/data/train.csv', dtype=str)\n",
        "data_test = pd.read_csv('/content/drive/MyDrive/all_cups/missing_planes/data/test.csv', dtype=str)\n",
        "data_train.head(3)"
      ],
      "execution_count": null,
      "outputs": [
        {
          "output_type": "execute_result",
          "data": {
            "text/html": [
              "<div>\n",
              "<style scoped>\n",
              "    .dataframe tbody tr th:only-of-type {\n",
              "        vertical-align: middle;\n",
              "    }\n",
              "\n",
              "    .dataframe tbody tr th {\n",
              "        vertical-align: top;\n",
              "    }\n",
              "\n",
              "    .dataframe thead th {\n",
              "        text-align: right;\n",
              "    }\n",
              "</style>\n",
              "<table border=\"1\" class=\"dataframe\">\n",
              "  <thead>\n",
              "    <tr style=\"text-align: right;\">\n",
              "      <th></th>\n",
              "      <th>sign</th>\n",
              "      <th>filename</th>\n",
              "    </tr>\n",
              "  </thead>\n",
              "  <tbody>\n",
              "    <tr>\n",
              "      <th>0</th>\n",
              "      <td>0</td>\n",
              "      <td>200d8766-4240-44d1-a2da-65dc4ee7973a</td>\n",
              "    </tr>\n",
              "    <tr>\n",
              "      <th>1</th>\n",
              "      <td>0</td>\n",
              "      <td>87174854-b7b6-4cb2-8183-4ca2bbd26b9d</td>\n",
              "    </tr>\n",
              "    <tr>\n",
              "      <th>2</th>\n",
              "      <td>0</td>\n",
              "      <td>c089638e-b683-436a-a3a3-3e5be972c4f6</td>\n",
              "    </tr>\n",
              "  </tbody>\n",
              "</table>\n",
              "</div>"
            ],
            "text/plain": [
              "  sign                              filename\n",
              "0    0  200d8766-4240-44d1-a2da-65dc4ee7973a\n",
              "1    0  87174854-b7b6-4cb2-8183-4ca2bbd26b9d\n",
              "2    0  c089638e-b683-436a-a3a3-3e5be972c4f6"
            ]
          },
          "metadata": {
            "tags": []
          },
          "execution_count": 120
        }
      ]
    },
    {
      "cell_type": "code",
      "metadata": {
        "id": "bCRrbR4vcd_F"
      },
      "source": [
        "def append_png(fn):\n",
        "    return fn+\".png\"\n",
        "data_train[\"png\"]=data_train[\"filename\"].apply(append_png)\n",
        "data_test[\"png\"]=data_test[\"filename\"].apply(append_png)"
      ],
      "execution_count": null,
      "outputs": []
    },
    {
      "cell_type": "code",
      "metadata": {
        "colab": {
          "base_uri": "https://localhost:8080/",
          "height": 142
        },
        "id": "SYsvXOUncsXE",
        "outputId": "28db0fad-f6b3-4264-c4ae-cf723ac83345"
      },
      "source": [
        "data_train.head(3)"
      ],
      "execution_count": null,
      "outputs": [
        {
          "output_type": "execute_result",
          "data": {
            "text/html": [
              "<div>\n",
              "<style scoped>\n",
              "    .dataframe tbody tr th:only-of-type {\n",
              "        vertical-align: middle;\n",
              "    }\n",
              "\n",
              "    .dataframe tbody tr th {\n",
              "        vertical-align: top;\n",
              "    }\n",
              "\n",
              "    .dataframe thead th {\n",
              "        text-align: right;\n",
              "    }\n",
              "</style>\n",
              "<table border=\"1\" class=\"dataframe\">\n",
              "  <thead>\n",
              "    <tr style=\"text-align: right;\">\n",
              "      <th></th>\n",
              "      <th>sign</th>\n",
              "      <th>filename</th>\n",
              "      <th>png</th>\n",
              "    </tr>\n",
              "  </thead>\n",
              "  <tbody>\n",
              "    <tr>\n",
              "      <th>0</th>\n",
              "      <td>0</td>\n",
              "      <td>200d8766-4240-44d1-a2da-65dc4ee7973a</td>\n",
              "      <td>200d8766-4240-44d1-a2da-65dc4ee7973a.png</td>\n",
              "    </tr>\n",
              "    <tr>\n",
              "      <th>1</th>\n",
              "      <td>0</td>\n",
              "      <td>87174854-b7b6-4cb2-8183-4ca2bbd26b9d</td>\n",
              "      <td>87174854-b7b6-4cb2-8183-4ca2bbd26b9d.png</td>\n",
              "    </tr>\n",
              "    <tr>\n",
              "      <th>2</th>\n",
              "      <td>0</td>\n",
              "      <td>c089638e-b683-436a-a3a3-3e5be972c4f6</td>\n",
              "      <td>c089638e-b683-436a-a3a3-3e5be972c4f6.png</td>\n",
              "    </tr>\n",
              "  </tbody>\n",
              "</table>\n",
              "</div>"
            ],
            "text/plain": [
              "  sign  ...                                       png\n",
              "0    0  ...  200d8766-4240-44d1-a2da-65dc4ee7973a.png\n",
              "1    0  ...  87174854-b7b6-4cb2-8183-4ca2bbd26b9d.png\n",
              "2    0  ...  c089638e-b683-436a-a3a3-3e5be972c4f6.png\n",
              "\n",
              "[3 rows x 3 columns]"
            ]
          },
          "metadata": {
            "tags": []
          },
          "execution_count": 122
        }
      ]
    },
    {
      "cell_type": "code",
      "metadata": {
        "id": "xJ_t7pXeo5Ho"
      },
      "source": [
        "samples = np.random.rand(len(data_train)) < 0.8\n",
        "df_train = data_train[samples]\n",
        "df_test = data_train[~samples]"
      ],
      "execution_count": null,
      "outputs": []
    },
    {
      "cell_type": "code",
      "metadata": {
        "colab": {
          "base_uri": "https://localhost:8080/"
        },
        "id": "3scBAKtWOq46",
        "outputId": "8708a29c-3422-4a75-f656-2e242c5121fe"
      },
      "source": [
        "data_train.info()"
      ],
      "execution_count": null,
      "outputs": [
        {
          "output_type": "stream",
          "text": [
            "<class 'pandas.core.frame.DataFrame'>\n",
            "RangeIndex: 31080 entries, 0 to 31079\n",
            "Data columns (total 3 columns):\n",
            " #   Column    Non-Null Count  Dtype \n",
            "---  ------    --------------  ----- \n",
            " 0   sign      31080 non-null  object\n",
            " 1   filename  31080 non-null  object\n",
            " 2   png       31080 non-null  object\n",
            "dtypes: object(3)\n",
            "memory usage: 728.6+ KB\n"
          ],
          "name": "stdout"
        }
      ]
    },
    {
      "cell_type": "code",
      "metadata": {
        "id": "u3zbrBG8Fndl"
      },
      "source": [
        "base_dir = '/content/drive/MyDrive/all_cups/missing_planes/data/'\n",
        "train_dir = '/content/drive/MyDrive/all_cups/missing_planes/data/avia-train'\n",
        "test_dir = '/content/drive/MyDrive/all_cups/missing_planes/data/avia-test'\n",
        "cpt_path = '/content/drive/MyDrive/all_cups/missing_planes/data/models/'"
      ],
      "execution_count": null,
      "outputs": []
    },
    {
      "cell_type": "code",
      "metadata": {
        "id": "otjPGYvcFngB"
      },
      "source": [
        "BATCH_SIZE=128\n",
        "IMAGE_SIZE = 20\n",
        "train_gen = ImageDataGenerator(\n",
        "    rotation_range=45,\n",
        "    rescale=1./255, \n",
        "    horizontal_flip=True\n",
        ")\n",
        "test_gen = ImageDataGenerator(rescale = 1./255)"
      ],
      "execution_count": null,
      "outputs": []
    },
    {
      "cell_type": "code",
      "metadata": {
        "colab": {
          "base_uri": "https://localhost:8080/"
        },
        "id": "O0qugBT9FniM",
        "outputId": "28f2b9e8-d3cc-4702-97b0-2b87ea39cc54"
      },
      "source": [
        "train_data = train_gen.flow_from_dataframe(dataframe=df_train, \n",
        "                                           directory=train_dir, x_col='png', \n",
        "                                           y_col='sign', seed=42, \n",
        "                                           batch_size=BATCH_SIZE,\n",
        "                                           shuffle=False,  \n",
        "                                           class_mode='binary',\n",
        "                                           validate_filenames=False,\n",
        "                                           target_size=(IMAGE_SIZE, IMAGE_SIZE))\n",
        "\n",
        "val_data = train_gen.flow_from_dataframe(dataframe=df_test, \n",
        "                                           directory=train_dir, x_col='png', \n",
        "                                           y_col='sign', \n",
        "                                           batch_size=BATCH_SIZE,\n",
        "                                           shuffle=False,  \n",
        "                                           class_mode='binary',\n",
        "                                           validate_filenames=False,\n",
        "                                           target_size=(IMAGE_SIZE, IMAGE_SIZE))\n",
        "\n",
        "test_data = test_gen.flow_from_dataframe(dataframe=data_test, \n",
        "                                         directory=test_dir, x_col='png', \n",
        "                                         y_col=None,\n",
        "                                         batch_size=BATCH_SIZE, \n",
        "                                         shuffle=False, \n",
        "                                         class_mode=None,\n",
        "                                         validate_filenames=False,\n",
        "                                         target_size=(IMAGE_SIZE, IMAGE_SIZE))\n",
        "\n",
        "full_data = train_gen.flow_from_dataframe(dataframe=data_train, \n",
        "                                           directory=train_dir, x_col='png', \n",
        "                                           y_col='sign', seed=42, \n",
        "                                           batch_size=BATCH_SIZE,\n",
        "                                           shuffle=True,  \n",
        "                                           class_mode='binary',\n",
        "                                           validate_filenames=False,\n",
        "                                           target_size=(IMAGE_SIZE, IMAGE_SIZE))"
      ],
      "execution_count": null,
      "outputs": [
        {
          "output_type": "stream",
          "text": [
            "Found 24859 non-validated image filenames belonging to 2 classes.\n",
            "Found 6221 non-validated image filenames belonging to 2 classes.\n",
            "Found 1000 non-validated image filenames.\n",
            "Found 31080 non-validated image filenames belonging to 2 classes.\n"
          ],
          "name": "stdout"
        }
      ]
    },
    {
      "cell_type": "code",
      "metadata": {
        "colab": {
          "base_uri": "https://localhost:8080/",
          "height": 256
        },
        "id": "mKDxvpgOPsQv",
        "outputId": "e1177251-3abc-4bc3-d53e-245bcb872e2b"
      },
      "source": [
        "plt.figure(figsize=(20,20))\n",
        "for i in range(5):\n",
        "    file = random.choice(os.listdir(train_dir))\n",
        "    image_path= os.path.join(train_dir, file)\n",
        "    img=mpimg.imread(image_path)\n",
        "    ax=plt.subplot(1,5,i+1)\n",
        "    ax.title.set_text(file)\n",
        "    plt.imshow(img)"
      ],
      "execution_count": null,
      "outputs": [
        {
          "output_type": "display_data",
          "data": {
            "image/png": "[encoded data removed]",
            "text/plain": [
              "<Figure size 1440x1440 with 5 Axes>"
            ]
          },
          "metadata": {
            "tags": [],
            "needs_background": "light"
          }
        }
      ]
    },
    {
      "cell_type": "code",
      "metadata": {
        "id": "TXN9mnomg7Kb"
      },
      "source": [
        "def make_model(dropout=0.0):\n",
        "  model = tf.keras.Sequential()\n",
        "  model.add(tf.keras.layers.Conv2D(filters=32, kernel_size=(3, 3), \n",
        "                                  activation='relu', input_shape=(IMAGE_SIZE, IMAGE_SIZE, 3), padding='same'))\n",
        "  model.add(tf.keras.layers.Dropout(dropout))\n",
        "  model.add(tf.keras.layers.MaxPooling2D(pool_size=2))\n",
        "\n",
        "  model.add(tf.keras.layers.Conv2D(filters=64, kernel_size=(3, 3), \n",
        "                                  activation='relu', padding='same'))\n",
        "  model.add(tf.keras.layers.Dropout(dropout))\n",
        "  model.add(tf.keras.layers.Flatten())\n",
        "  model.add(tf.keras.layers.Dense(128))\n",
        "  model.add(tf.keras.layers.Dense(1, activation='sigmoid'))\n",
        "\n",
        "  model.compile(optimizer=tf.keras.optimizers.Adam(1e-3),\n",
        "                loss=tf.keras.losses.binary_crossentropy,\n",
        "                metrics=[tf.keras.metrics.AUC()])\n",
        "  return model\n",
        "\n",
        "model = make_model(dropout=0.5)"
      ],
      "execution_count": null,
      "outputs": []
    },
    {
      "cell_type": "code",
      "metadata": {
        "colab": {
          "base_uri": "https://localhost:8080/",
          "height": 687
        },
        "id": "dh6Ay38eg7M2",
        "outputId": "d7f4ed15-7384-4f4c-df52-7995f6373a7a"
      },
      "source": [
        "checkpoint = tf.keras.callbacks.ModelCheckpoint(cpt_path, monitor='val_loss', verbose=1, save_best_only=True)\n",
        "\n",
        "EPOCHS = 10\n",
        "history = model.fit(\n",
        "    train_data,\n",
        "    validation_data=val_data,\n",
        "    epochs=EPOCHS,\n",
        "    callbacks=[checkpoint, PlotLossesCallback()])"
      ],
      "execution_count": null,
      "outputs": [
        {
          "output_type": "display_data",
          "data": {
            "image/png": "[encoded data removed]",
            "text/plain": [
              "<Figure size 864x576 with 2 Axes>"
            ]
          },
          "metadata": {
            "tags": [],
            "needs_background": "light"
          }
        },
        {
          "output_type": "stream",
          "text": [
            "auc_8\n",
            "\ttraining         \t (min:    0.707, max:    0.979, cur:    0.979)\n",
            "\tvalidation       \t (min:    0.923, max:    0.982, cur:    0.980)\n",
            "Loss\n",
            "\ttraining         \t (min:    0.161, max:    0.524, cur:    0.161)\n",
            "\tvalidation       \t (min:    0.186, max:    0.395, cur:    0.200)\n"
          ],
          "name": "stdout"
        }
      ]
    },
    {
      "cell_type": "code",
      "metadata": {
        "id": "I6Xcbelfb8vX"
      },
      "source": [
        "fpr, tpr, thresholds = roc_curve(df_test['sign'].astype(int), val_data_pred)"
      ],
      "execution_count": null,
      "outputs": []
    },
    {
      "cell_type": "code",
      "metadata": {
        "id": "NPNNFei6c_Er"
      },
      "source": [
        "val_data_pred = model.predict(val_data)"
      ],
      "execution_count": null,
      "outputs": []
    },
    {
      "cell_type": "code",
      "metadata": {
        "colab": {
          "base_uri": "https://localhost:8080/",
          "height": 573
        },
        "id": "PCgFComwcFZF",
        "outputId": "0cc3381c-a2dc-4d39-8ba9-a2c05e5f76c1"
      },
      "source": [
        "def plot_roc_curve(fpr,tpr): \n",
        "  plt.figure(1)\n",
        "  plt.plot([0, 1], [0, 1], 'k--')\n",
        "  plt.plot(fpr, tpr)\n",
        "  plt.xlabel('False positive rate')\n",
        "  plt.ylabel('True positive rate')\n",
        "  plt.title('ROC curve')\n",
        "  plt.show()\n",
        "  # Zoom in view of the upper left corner.\n",
        "  plt.figure(2)\n",
        "  plt.xlim(0, 0.3)\n",
        "  plt.ylim(0.9, 1)\n",
        "  plt.plot([0, 1], [0, 1], 'k--')\n",
        "  plt.plot(fpr, tpr)\n",
        "  plt.xlabel('False positive rate')\n",
        "  plt.ylabel('True positive rate')\n",
        "  plt.title('ROC curve (zoomed in at top left)')\n",
        "  plt.show()\n",
        "\n",
        "plot_roc_curve(fpr,tpr) "
      ],
      "execution_count": null,
      "outputs": [
        {
          "output_type": "display_data",
          "data": {
            "image/png": "[encoded data removed]",
            "text/plain": [
              "<Figure size 432x288 with 1 Axes>"
            ]
          },
          "metadata": {
            "tags": [],
            "needs_background": "light"
          }
        },
        {
          "output_type": "display_data",
          "data": {
            "image/png": "[encoded data removed]",
            "text/plain": [
              "<Figure size 432x288 with 1 Axes>"
            ]
          },
          "metadata": {
            "tags": [],
            "needs_background": "light"
          }
        }
      ]
    },
    {
      "cell_type": "code",
      "metadata": {
        "colab": {
          "base_uri": "https://localhost:8080/"
        },
        "id": "OCo_4t5eddY5",
        "outputId": "fa013399-fb59-45b4-8217-3f4dfd1bf00e"
      },
      "source": [
        "auc_score=roc_auc_score(df_test['sign'].astype(int), val_data_pred)\n",
        "auc_score"
      ],
      "execution_count": null,
      "outputs": [
        {
          "output_type": "execute_result",
          "data": {
            "text/plain": [
              "0.9897856629189834"
            ]
          },
          "metadata": {
            "tags": []
          },
          "execution_count": 187
        }
      ]
    },
    {
      "cell_type": "code",
      "metadata": {
        "id": "RFQAL_iJg7PB"
      },
      "source": [
        "# FULL DATA"
      ],
      "execution_count": null,
      "outputs": []
    },
    {
      "cell_type": "code",
      "metadata": {
        "id": "2rnGLwsT6CZF"
      },
      "source": [
        "def submit(data_test, predict, auc=0.9):\n",
        "  test = pd.DataFrame(predict, columns=['Predict'])\n",
        "  result = pd.concat([data_test, test], axis=1)\n",
        "  result['sign']  = result['Predict'].apply(lambda x: 1 if x > auc else 0)\n",
        "  result.drop(['png', 'Predict'], axis=1, inplace=True)\n",
        "  result.to_csv('Subbmision.csv', columns=['sign', 'filename'], index=False)"
      ],
      "execution_count": null,
      "outputs": []
    },
    {
      "cell_type": "code",
      "metadata": {
        "id": "7WLS-Vn190tN"
      },
      "source": [
        "def full_model_learn(EPOCHS):\n",
        "  model.fit(full_data, epochs=EPOCHS, callbacks=[checkpoint, PlotLossesCallback()])\n",
        "  model_best = make_model(dropout=0.5)\n",
        "  model_best.load_weights(cpt_path)\n",
        "  predict = model.predict(test_data)\n",
        "  return predict\n",
        "  # submit(data_test, predict, 0.9)"
      ],
      "execution_count": null,
      "outputs": []
    },
    {
      "cell_type": "code",
      "metadata": {
        "colab": {
          "base_uri": "https://localhost:8080/",
          "height": 653
        },
        "id": "HIL4oes6_Iqj",
        "outputId": "69b4279d-18dd-4c63-d471-4592dca9d9ef"
      },
      "source": [
        "full_pred = full_model_learn(15)"
      ],
      "execution_count": null,
      "outputs": [
        {
          "output_type": "display_data",
          "data": {
            "image/png": "[encoded data removed]",
            "text/plain": [
              "<Figure size 864x576 with 2 Axes>"
            ]
          },
          "metadata": {
            "tags": [],
            "needs_background": "light"
          }
        },
        {
          "output_type": "stream",
          "text": [
            "auc_8\n",
            "\tauc_8            \t (min:    0.988, max:    0.990, cur:    0.990)\n",
            "Loss\n",
            "\tloss             \t (min:    0.106, max:    0.116, cur:    0.108)\n"
          ],
          "name": "stdout"
        }
      ]
    },
    {
      "cell_type": "code",
      "metadata": {
        "id": "yVlARSzdOX-c"
      },
      "source": [
        "submit(data_test, full_pred, auc=0.24)"
      ],
      "execution_count": null,
      "outputs": []
    },
    {
      "cell_type": "code",
      "metadata": {
        "id": "h2JCczk-hM6f"
      },
      "source": [
        "#-------------------------------------------------------------------------------------------"
      ],
      "execution_count": null,
      "outputs": []
    },
    {
      "cell_type": "code",
      "metadata": {
        "id": "ehQ3WYJUhM9B"
      },
      "source": [
        "pred = model.predict(val_data)"
      ],
      "execution_count": null,
      "outputs": []
    },
    {
      "cell_type": "code",
      "metadata": {
        "colab": {
          "base_uri": "https://localhost:8080/",
          "height": 204
        },
        "id": "mz5Xuz1cjBH_",
        "outputId": "e1e28008-2b96-472e-c0ae-9941c53b6ba4"
      },
      "source": [
        "test = pd.DataFrame(pred, columns=['Predict'])\n",
        "test.head()"
      ],
      "execution_count": null,
      "outputs": [
        {
          "output_type": "execute_result",
          "data": {
            "text/html": [
              "<div>\n",
              "<style scoped>\n",
              "    .dataframe tbody tr th:only-of-type {\n",
              "        vertical-align: middle;\n",
              "    }\n",
              "\n",
              "    .dataframe tbody tr th {\n",
              "        vertical-align: top;\n",
              "    }\n",
              "\n",
              "    .dataframe thead th {\n",
              "        text-align: right;\n",
              "    }\n",
              "</style>\n",
              "<table border=\"1\" class=\"dataframe\">\n",
              "  <thead>\n",
              "    <tr style=\"text-align: right;\">\n",
              "      <th></th>\n",
              "      <th>Predict</th>\n",
              "    </tr>\n",
              "  </thead>\n",
              "  <tbody>\n",
              "    <tr>\n",
              "      <th>0</th>\n",
              "      <td>0.000771</td>\n",
              "    </tr>\n",
              "    <tr>\n",
              "      <th>1</th>\n",
              "      <td>0.000253</td>\n",
              "    </tr>\n",
              "    <tr>\n",
              "      <th>2</th>\n",
              "      <td>0.004452</td>\n",
              "    </tr>\n",
              "    <tr>\n",
              "      <th>3</th>\n",
              "      <td>0.000117</td>\n",
              "    </tr>\n",
              "    <tr>\n",
              "      <th>4</th>\n",
              "      <td>0.046409</td>\n",
              "    </tr>\n",
              "  </tbody>\n",
              "</table>\n",
              "</div>"
            ],
            "text/plain": [
              "    Predict\n",
              "0  0.000771\n",
              "1  0.000253\n",
              "2  0.004452\n",
              "3  0.000117\n",
              "4  0.046409"
            ]
          },
          "metadata": {
            "tags": []
          },
          "execution_count": 249
        }
      ]
    },
    {
      "cell_type": "code",
      "metadata": {
        "colab": {
          "base_uri": "https://localhost:8080/"
        },
        "id": "Bgz_kT4vgKL1",
        "outputId": "1943d1cd-911a-4d6e-ddfb-33c8df194321"
      },
      "source": [
        "df_test['sign'].astype(int).sum()"
      ],
      "execution_count": null,
      "outputs": [
        {
          "output_type": "execute_result",
          "data": {
            "text/plain": [
              "1606"
            ]
          },
          "metadata": {
            "tags": []
          },
          "execution_count": 250
        }
      ]
    },
    {
      "cell_type": "code",
      "metadata": {
        "colab": {
          "base_uri": "https://localhost:8080/"
        },
        "id": "poSihdhui-Ha",
        "outputId": "09c15e84-c6ed-468b-ce66-268645e2a697"
      },
      "source": [
        "for i in np.arange(0, 1, 0.005):\n",
        "  test['sign' + '_' + str(i)]  = result['Predict'].apply(lambda x: 1 if x > i else 0)\n",
        "test.head()\n",
        "for col in test.columns:\n",
        "  print(col, test[col].astype(int).sum())"
      ],
      "execution_count": null,
      "outputs": [
        {
          "output_type": "stream",
          "text": [
            "Predict 0\n",
            "sign_0.0 6221\n",
            "sign_0.025 2484\n",
            "sign_0.05 2166\n",
            "sign_0.07500000000000001 2001\n",
            "sign_0.1 1887\n",
            "sign_0.125 1802\n",
            "sign_0.15000000000000002 1743\n",
            "sign_0.17500000000000002 1693\n",
            "sign_0.2 1665\n",
            "sign_0.225 1618\n",
            "sign_0.25 1584\n",
            "sign_0.275 1550\n",
            "sign_0.30000000000000004 1529\n",
            "sign_0.325 1497\n",
            "sign_0.35000000000000003 1468\n",
            "sign_0.375 1440\n",
            "sign_0.4 1405\n",
            "sign_0.42500000000000004 1374\n",
            "sign_0.45 1344\n",
            "sign_0.47500000000000003 1311\n",
            "sign_0.5 1277\n",
            "sign_0.525 1251\n",
            "sign_0.55 1220\n",
            "sign_0.5750000000000001 1183\n",
            "sign_0.6000000000000001 1138\n",
            "sign_0.625 1094\n",
            "sign_0.65 1065\n",
            "sign_0.675 1021\n",
            "sign_0.7000000000000001 966\n",
            "sign_0.7250000000000001 919\n",
            "sign_0.75 860\n",
            "sign_0.775 791\n",
            "sign_0.8 737\n",
            "sign_0.8250000000000001 664\n",
            "sign_0.8500000000000001 593\n",
            "sign_0.875 500\n",
            "sign_0.9 424\n",
            "sign_0.925 315\n",
            "sign_0.9500000000000001 212\n",
            "sign_0.9750000000000001 82\n",
            "sign_0.005 3204\n",
            "sign_0.01 2899\n",
            "sign_0.015 2715\n",
            "sign_0.02 2580\n",
            "sign_0.03 2401\n",
            "sign_0.035 2318\n",
            "sign_0.04 2253\n",
            "sign_0.045 2215\n",
            "sign_0.055 2130\n",
            "sign_0.06 2087\n",
            "sign_0.065 2052\n",
            "sign_0.07 2032\n",
            "sign_0.075 2001\n",
            "sign_0.08 1974\n",
            "sign_0.085 1947\n",
            "sign_0.09 1922\n",
            "sign_0.095 1903\n",
            "sign_0.105 1873\n",
            "sign_0.11 1853\n",
            "sign_0.115 1835\n",
            "sign_0.12 1817\n",
            "sign_0.13 1787\n",
            "sign_0.135 1775\n",
            "sign_0.14 1766\n",
            "sign_0.145 1754\n",
            "sign_0.15 1743\n",
            "sign_0.155 1731\n",
            "sign_0.16 1719\n",
            "sign_0.165 1714\n",
            "sign_0.17 1705\n",
            "sign_0.18 1688\n",
            "sign_0.185 1683\n",
            "sign_0.19 1680\n",
            "sign_0.195 1671\n",
            "sign_0.20500000000000002 1654\n",
            "sign_0.21 1645\n",
            "sign_0.215 1635\n",
            "sign_0.22 1629\n",
            "sign_0.23 1614\n",
            "sign_0.23500000000000001 1611\n",
            "sign_0.24 1602\n",
            "sign_0.245 1593\n",
            "sign_0.255 1577\n",
            "sign_0.26 1570\n",
            "sign_0.265 1565\n",
            "sign_0.27 1557\n",
            "sign_0.28 1548\n",
            "sign_0.28500000000000003 1544\n",
            "sign_0.29 1542\n",
            "sign_0.295 1538\n",
            "sign_0.3 1529\n",
            "sign_0.305 1523\n",
            "sign_0.31 1519\n",
            "sign_0.315 1512\n",
            "sign_0.32 1502\n",
            "sign_0.33 1493\n",
            "sign_0.335 1490\n",
            "sign_0.34 1483\n",
            "sign_0.34500000000000003 1476\n",
            "sign_0.355 1460\n",
            "sign_0.36 1456\n",
            "sign_0.365 1451\n",
            "sign_0.37 1447\n",
            "sign_0.38 1432\n",
            "sign_0.385 1427\n",
            "sign_0.39 1418\n",
            "sign_0.395 1410\n",
            "sign_0.405 1400\n",
            "sign_0.41000000000000003 1393\n",
            "sign_0.41500000000000004 1385\n",
            "sign_0.42 1381\n",
            "sign_0.425 1374\n",
            "sign_0.43 1368\n",
            "sign_0.435 1361\n",
            "sign_0.44 1353\n",
            "sign_0.445 1349\n",
            "sign_0.455 1340\n",
            "sign_0.46 1333\n",
            "sign_0.465 1325\n",
            "sign_0.47000000000000003 1317\n",
            "sign_0.48 1300\n",
            "sign_0.485 1295\n",
            "sign_0.49 1290\n",
            "sign_0.495 1282\n",
            "sign_0.505 1273\n",
            "sign_0.51 1268\n",
            "sign_0.515 1266\n",
            "sign_0.52 1260\n",
            "sign_0.53 1246\n",
            "sign_0.535 1243\n",
            "sign_0.54 1233\n",
            "sign_0.545 1226\n",
            "sign_0.555 1216\n",
            "sign_0.56 1211\n",
            "sign_0.5650000000000001 1196\n",
            "sign_0.5700000000000001 1188\n",
            "sign_0.58 1174\n",
            "sign_0.585 1167\n",
            "sign_0.59 1156\n",
            "sign_0.595 1147\n",
            "sign_0.6 1138\n",
            "sign_0.605 1129\n",
            "sign_0.61 1117\n",
            "sign_0.615 1107\n",
            "sign_0.62 1097\n",
            "sign_0.63 1088\n",
            "sign_0.635 1082\n",
            "sign_0.64 1074\n",
            "sign_0.645 1069\n",
            "sign_0.655 1058\n",
            "sign_0.66 1049\n",
            "sign_0.665 1042\n",
            "sign_0.67 1033\n",
            "sign_0.68 1003\n",
            "sign_0.685 994\n",
            "sign_0.6900000000000001 989\n",
            "sign_0.6950000000000001 977\n",
            "sign_0.705 956\n",
            "sign_0.71 949\n",
            "sign_0.715 940\n",
            "sign_0.72 929\n",
            "sign_0.725 919\n",
            "sign_0.73 907\n",
            "sign_0.735 893\n",
            "sign_0.74 885\n",
            "sign_0.745 879\n",
            "sign_0.755 844\n",
            "sign_0.76 826\n",
            "sign_0.765 818\n",
            "sign_0.77 805\n",
            "sign_0.78 779\n",
            "sign_0.785 771\n",
            "sign_0.79 763\n",
            "sign_0.795 755\n",
            "sign_0.805 722\n",
            "sign_0.81 705\n",
            "sign_0.8150000000000001 692\n",
            "sign_0.8200000000000001 674\n",
            "sign_0.8300000000000001 653\n",
            "sign_0.835 639\n",
            "sign_0.84 627\n",
            "sign_0.845 607\n",
            "sign_0.85 593\n",
            "sign_0.855 578\n",
            "sign_0.86 561\n",
            "sign_0.865 540\n",
            "sign_0.87 520\n",
            "sign_0.88 485\n",
            "sign_0.885 464\n",
            "sign_0.89 447\n",
            "sign_0.895 440\n",
            "sign_0.905 407\n",
            "sign_0.91 382\n",
            "sign_0.915 357\n",
            "sign_0.92 341\n",
            "sign_0.93 297\n",
            "sign_0.935 280\n",
            "sign_0.9400000000000001 258\n",
            "sign_0.9450000000000001 233\n",
            "sign_0.9550000000000001 188\n",
            "sign_0.96 163\n",
            "sign_0.965 137\n",
            "sign_0.97 103\n",
            "sign_0.975 82\n",
            "sign_0.98 59\n",
            "sign_0.985 47\n",
            "sign_0.99 26\n",
            "sign_0.995 7\n"
          ],
          "name": "stdout"
        }
      ]
    },
    {
      "cell_type": "code",
      "metadata": {
        "id": "Q9uQBlpUgwLE"
      },
      "source": [
        ""
      ],
      "execution_count": null,
      "outputs": []
    }
  ]
}